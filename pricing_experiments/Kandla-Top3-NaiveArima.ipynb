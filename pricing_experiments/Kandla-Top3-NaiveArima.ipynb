{
 "cells": [
  {
   "cell_type": "code",
   "execution_count": 72,
   "metadata": {
    "collapsed": true
   },
   "outputs": [],
   "source": [
    "# Some code is shamelessly copied from Learning Blogs\n",
    "%matplotlib inline\n",
    "import numpy as np\n",
    "import pandas as pd\n",
    "from pandas import Series\n",
    "from pandas import DataFrame\n",
    "from pandas import concat\n",
    "from statsmodels.tsa.arima_model import ARIMA\n",
    "from statsmodels.tsa.seasonal import seasonal_decompose\n",
    "from sklearn.metrics import mean_squared_error, mean_absolute_error\n",
    "from sklearn.ensemble import RandomForestRegressor\n",
    "from math import sqrt\n",
    "import matplotlib.pyplot as plt\n",
    "from sklearn.svm import SVR\n",
    "from pylab import rcParams\n",
    "import math\n",
    "import zipfile\n",
    "from datetime import datetime\n",
    "from dateutil import parser\n",
    "import datetime\n",
    "import random\n",
    "\n",
    "pd.set_option('display.max_columns', None)\n",
    "rcParams['figure.figsize'] = 15, 5\n",
    "\n",
    "\n",
    "def parseDate(d):\n",
    "    try:\n",
    "        return parser.parse(d)        \n",
    "    except:\n",
    "        return None\n",
    "\n",
    "def maxD(v):\n",
    "    dt1 = parseDate(v[0])\n",
    "    dt2 = parseDate(v[1])\n",
    "    if dt1 is not None and dt2 is not None:\n",
    "        return max(dt1, dt2)\n",
    "    elif dt1 is not None:\n",
    "        return dt1\n",
    "    else:\n",
    "        return dt2\n",
    "    \n",
    "def addDelta(v):\n",
    "    delta = datetime.timedelta(0,random.randint(1, 15), random.randint(1, 1001))\n",
    "    dt = parseDate(str(v[0]))\n",
    "    if dt is not None:\n",
    "        return dt+delta\n",
    "    else:\n",
    "        return dt\n",
    "    \n",
    "\n",
    "    \n",
    "def num(s):\n",
    "    try:\n",
    "        return int(s[0])\n",
    "    except ValueError:\n",
    "        return float(s[0])\n",
    "    except ValueError:\n",
    "        return None\n",
    "\n",
    "def differ(v):\n",
    "    d1 = num(v[0])\n",
    "    d2 = num(v[1])\n",
    "    if d1 is not None and d2 is not None and abs(d1-d2)<=10:\n",
    "        return False\n",
    "    else:\n",
    "        return True\n",
    "    \n",
    "def pererr(err, avg):\n",
    "    return (err/avg)*100\n",
    "\n",
    "def mean(l):\n",
    "    return reduce(lambda x, y: x + y, l) / len(l)\n",
    "\n",
    "# create a differenced series\n",
    "def difference(dataset, interval=1):\n",
    "    diff = list()\n",
    "    for i in range(interval, len(dataset)):\n",
    "        value = dataset[i] - dataset[i - interval]\n",
    "        diff.append(value)\n",
    "    return np.array(diff)\n",
    "\n",
    "\n",
    "# invert differenced value\n",
    "def inverse_difference(history, pred, interval=1):\n",
    "    return pred + history[-interval]\n",
    "\n",
    "    \n",
    "def predict(coef, history):\n",
    "    pred = 0.0\n",
    "    for i in range(1, len(coef)+1):\n",
    "        pred += coef[i-1] * history[-i]\n",
    "    return pred    \n",
    "\n",
    "# runArimaForTS takes a pandas.Series with dateIndex and T as number of Test Points, (ar, i, ma) as arima params \n",
    "def runArimaForTs(series, T, ar, i, ma):\n",
    "    X = series.values\n",
    "    size = len(X) - T\n",
    "    train, test = X[0:size], X[size:]\n",
    "    history = [x for x in train]\n",
    "    predictions = list()\n",
    "    errs = []\n",
    "    for t in range(len(test)):\n",
    "        model = ARIMA(history, order=(ar,i,ma))\n",
    "        model_fit = model.fit(disp=False)\n",
    "        ar_coef, ma_coef = model_fit.arparams, model_fit.maparams\n",
    "        resid = model_fit.resid\n",
    "        diff = difference(history)\n",
    "        pred = history[-1] + predict(ar_coef, diff) + predict(ma_coef, resid)\n",
    "        predictions.append(pred)\n",
    "        obs = test[t]\n",
    "        history.append(obs)\n",
    "        err=pererr(abs(obs-pred),obs)\n",
    "        errs.append(err)\n",
    "        print('>predicted=%.3f, expected=%.3f, err=%.3f' % (pred, obs, err))\n",
    "    rmse = sqrt(mean_squared_error(test, predictions))\n",
    "    mae = mean_absolute_error(test, predictions)\n",
    "    print('Test RMSE: %.3f, MAE:%.3f, Err:%.3f'% (rmse, mae, mean(errs)))\n",
    "    acts =Series(test, series.index[size:])\n",
    "    preds=Series(predictions, series.index[size:])\n",
    "    preds.plot(color=\"red\", label=\"Prediction\")\n",
    "    acts.plot(color=\"blue\", label=\"Expected\")\n",
    "    return (predictions, test)\n",
    " \n",
    "    # runArimaForTS takes a pandas.Series with dateIndex and T as number of Test Points, (ar, i, ma) as arima params \n",
    "def runArimaForTs2(series, T, I, ar, i, ma):\n",
    "    X = series.values\n",
    "    size = len(X) - T\n",
    "    train, test = X[0:size], X[size:]\n",
    "    history = [x for x in train]\n",
    "    predictions = list()\n",
    "    errs = []\n",
    "    for t in range(len(test)):\n",
    "        differenced = difference(history, I)\n",
    "        model = ARIMA(differenced, order=(ar,i,ma))\n",
    "        model_fit = model.fit(disp=False)\n",
    "        # one-step out-of sample forecast\n",
    "        pred = model_fit.forecast()[0]\n",
    "        # invert the differenced forecast\n",
    "        pred = inverse_difference(history, pred, I)\n",
    "        print pred, test\n",
    "        predictions.append(pred)\n",
    "        obs = test[t]\n",
    "        history.append(obs)\n",
    "        err=pererr(abs(obs-pred),obs)\n",
    "        errs.append(err)\n",
    "        print('>predicted=%.3f, expected=%.3f, err=%.3f' % (pred, obs, err))\n",
    "    rmse = sqrt(mean_squared_error(test, predictions))\n",
    "    mae = mean_absolute_error(test, predictions)\n",
    "    print('Test RMSE: %.3f, MAE:%.3f, Err:%.3f'% (rmse, mae, mean(errs)))\n",
    "    acts =Series(test, series.index[size:])\n",
    "    preds=Series(predictions, series.index[size:])\n",
    "    #preds.plot(color=\"red\", label=\"Prediction\")\n",
    "    #acts.plot(color=\"blue\", label=\"Expected\")\n",
    "    return (predictions, test , preds, acts)\n",
    " "
   ]
  },
  {
   "cell_type": "code",
   "execution_count": 33,
   "metadata": {
    "collapsed": true
   },
   "outputs": [],
   "source": []
  },
  {
   "cell_type": "code",
   "execution_count": 34,
   "metadata": {
    "collapsed": true
   },
   "outputs": [],
   "source": [
    "zf = zipfile.ZipFile('data/order-reports_05_09_2017_23_16.csv.zip') \n",
    "kp = pd.read_csv(zf.open('order-reports_05_09_2017_23_16.csv'), header=0)"
   ]
  },
  {
   "cell_type": "code",
   "execution_count": 35,
   "metadata": {},
   "outputs": [
    {
     "data": {
      "text/plain": [
       "Id                     6626\n",
       "Customer Name          6626\n",
       "From City              6626\n",
       "To City                6626\n",
       "Distance               6625\n",
       "From Sublocation       6626\n",
       "To Sublocation         6626\n",
       "Order Value            5143\n",
       "Used truck Type        5134\n",
       "Warehouse Start Loc    6626\n",
       "Warehouse End Loc      6626\n",
       "Sector Name            6626\n",
       "Tonnage                5102\n",
       "Per Ton Rate           2876\n",
       "Product Name           6626\n",
       "Freight Amount         5126\n",
       "Order Accepted         4361\n",
       "Order Blocked          1689\n",
       "dtype: int64"
      ]
     },
     "execution_count": 35,
     "metadata": {},
     "output_type": "execute_result"
    }
   ],
   "source": [
    "kpi=kp.iloc[:, \n",
    "          [0, 2, 6, 7, 8, 9, 10, 11, 14, 20, 22, \n",
    "           37, 38, 39, 75, 41, 93, 95]]\n",
    "kpi.count()\n"
   ]
  },
  {
   "cell_type": "code",
   "execution_count": 36,
   "metadata": {},
   "outputs": [
    {
     "name": "stderr",
     "output_type": "stream",
     "text": [
      "/Library/Python/2.7/site-packages/ipykernel_launcher.py:2: SettingWithCopyWarning: \n",
      "A value is trying to be set on a copy of a slice from a DataFrame.\n",
      "Try using .loc[row_indexer,col_indexer] = value instead\n",
      "\n",
      "See the caveats in the documentation: http://pandas.pydata.org/pandas-docs/stable/indexing.html#indexing-view-versus-copy\n",
      "  \n"
     ]
    },
    {
     "data": {
      "text/plain": [
       "Id                     6626\n",
       "Customer Name          6626\n",
       "From City              6626\n",
       "To City                6626\n",
       "Distance               6625\n",
       "From Sublocation       6626\n",
       "To Sublocation         6626\n",
       "Order Value            5143\n",
       "Used truck Type        5134\n",
       "Warehouse Start Loc    6626\n",
       "Warehouse End Loc      6626\n",
       "Sector Name            6626\n",
       "Tonnage                5102\n",
       "Per Ton Rate           2876\n",
       "Product Name           6626\n",
       "Freight Amount         5126\n",
       "Order Accepted         4361\n",
       "Order Blocked          1689\n",
       "date                   6033\n",
       "dtype: int64"
      ]
     },
     "execution_count": 36,
     "metadata": {},
     "output_type": "execute_result"
    }
   ],
   "source": [
    "# Picking earliest of Order Accepted or Order Blocked date as Order Date\n",
    "kpi['date']=kpi[['Order Accepted', 'Order Blocked']].apply(maxD, axis=1)\n",
    "#kpi.drop(['Order Accepted', 'Order Blocked'], axis=1, inplace=True)\n",
    "kpi.count()"
   ]
  },
  {
   "cell_type": "code",
   "execution_count": 37,
   "metadata": {},
   "outputs": [
    {
     "data": {
      "text/plain": [
       "Id                     5126\n",
       "Customer Name          5126\n",
       "From City              5126\n",
       "To City                5126\n",
       "Distance               5126\n",
       "From Sublocation       5126\n",
       "To Sublocation         5126\n",
       "Order Value            5126\n",
       "Used truck Type        5126\n",
       "Warehouse Start Loc    5126\n",
       "Warehouse End Loc      5126\n",
       "Sector Name            5126\n",
       "Tonnage                4283\n",
       "Per Ton Rate           2876\n",
       "Product Name           5126\n",
       "Freight Amount         5126\n",
       "Order Accepted         3517\n",
       "Order Blocked          1626\n",
       "date                   5126\n",
       "dtype: int64"
      ]
     },
     "execution_count": 37,
     "metadata": {},
     "output_type": "execute_result"
    }
   ],
   "source": [
    "## Checking how much bad Values/Rows we have\n",
    "kpi[(pd.isnull(kpi['Freight Amount'])==False) & (pd.isnull(kpi['Order Value'])==False)].count()"
   ]
  },
  {
   "cell_type": "code",
   "execution_count": 38,
   "metadata": {},
   "outputs": [
    {
     "data": {
      "text/plain": [
       "Id                     6033\n",
       "Customer Name          6033\n",
       "From City              6033\n",
       "To City                6033\n",
       "Distance               6033\n",
       "From Sublocation       6033\n",
       "To Sublocation         6033\n",
       "Order Value            5143\n",
       "Used truck Type        5134\n",
       "Warehouse Start Loc    6033\n",
       "Warehouse End Loc      6033\n",
       "Sector Name            6033\n",
       "Tonnage                5102\n",
       "Per Ton Rate           2876\n",
       "Product Name           6033\n",
       "Freight Amount         5126\n",
       "Order Accepted         4361\n",
       "Order Blocked          1689\n",
       "date                   6033\n",
       "dtype: int64"
      ]
     },
     "execution_count": 38,
     "metadata": {},
     "output_type": "execute_result"
    }
   ],
   "source": [
    "# droping all rows where we don't know about date (i.e date is null)\n",
    "kpi = kpi[pd.isnull(kpi['date'])==False]\n",
    "kpi.count()"
   ]
  },
  {
   "cell_type": "code",
   "execution_count": 39,
   "metadata": {
    "collapsed": true
   },
   "outputs": [],
   "source": [
    "# calculating per unit km per ton price for the lane\n",
    "kpi['ptr'] = (kpi['Freight Amount']/(kpi['Tonnage']*(kpi['Distance']/1000)))\n"
   ]
  },
  {
   "cell_type": "code",
   "execution_count": 40,
   "metadata": {},
   "outputs": [
    {
     "data": {
      "text/plain": [
       "5435"
      ]
     },
     "execution_count": 40,
     "metadata": {},
     "output_type": "execute_result"
    }
   ],
   "source": [
    "# check whether we have duplicate dates\n",
    "kpi['date'].unique().size"
   ]
  },
  {
   "cell_type": "code",
   "execution_count": 41,
   "metadata": {},
   "outputs": [
    {
     "data": {
      "text/plain": [
       "Id                     598\n",
       "Customer Name          598\n",
       "From City              598\n",
       "To City                598\n",
       "Distance               598\n",
       "From Sublocation       598\n",
       "To Sublocation         598\n",
       "Order Value            481\n",
       "Used truck Type        480\n",
       "Warehouse Start Loc    598\n",
       "Warehouse End Loc      598\n",
       "Sector Name            598\n",
       "Tonnage                555\n",
       "Per Ton Rate           384\n",
       "Product Name           598\n",
       "Freight Amount         480\n",
       "Order Accepted         575\n",
       "Order Blocked           24\n",
       "date                   598\n",
       "ptr                    445\n",
       "dtype: int64"
      ]
     },
     "execution_count": 41,
     "metadata": {},
     "output_type": "execute_result"
    }
   ],
   "source": [
    "# how many duplicates we have\n",
    "kpi[kpi.date.duplicated()].count()"
   ]
  },
  {
   "cell_type": "code",
   "execution_count": 42,
   "metadata": {
    "collapsed": true
   },
   "outputs": [],
   "source": [
    "# Lets try to make d as unique as possible by adding some secs, ms\n",
    "kpi['d'] = kpi[['date']].apply(addDelta, axis=1)"
   ]
  },
  {
   "cell_type": "code",
   "execution_count": 43,
   "metadata": {},
   "outputs": [
    {
     "data": {
      "text/plain": [
       "6033"
      ]
     },
     "execution_count": 43,
     "metadata": {},
     "output_type": "execute_result"
    }
   ],
   "source": [
    "kpi['d'].unique().size\n",
    "# should come around the count of rows we have"
   ]
  },
  {
   "cell_type": "code",
   "execution_count": 44,
   "metadata": {},
   "outputs": [
    {
     "data": {
      "text/html": [
       "<div>\n",
       "<style>\n",
       "    .dataframe thead tr:only-child th {\n",
       "        text-align: right;\n",
       "    }\n",
       "\n",
       "    .dataframe thead th {\n",
       "        text-align: left;\n",
       "    }\n",
       "\n",
       "    .dataframe tbody tr th {\n",
       "        vertical-align: top;\n",
       "    }\n",
       "</style>\n",
       "<table border=\"1\" class=\"dataframe\">\n",
       "  <thead>\n",
       "    <tr style=\"text-align: right;\">\n",
       "      <th></th>\n",
       "      <th></th>\n",
       "      <th></th>\n",
       "      <th></th>\n",
       "      <th></th>\n",
       "      <th></th>\n",
       "      <th>Id</th>\n",
       "      <th>Customer Name</th>\n",
       "      <th>Distance</th>\n",
       "      <th>Order Value</th>\n",
       "      <th>Warehouse Start Loc</th>\n",
       "      <th>Warehouse End Loc</th>\n",
       "      <th>Sector Name</th>\n",
       "      <th>Tonnage</th>\n",
       "      <th>Per Ton Rate</th>\n",
       "      <th>Freight Amount</th>\n",
       "      <th>Order Accepted</th>\n",
       "      <th>Order Blocked</th>\n",
       "      <th>date</th>\n",
       "      <th>ptr</th>\n",
       "      <th>d</th>\n",
       "    </tr>\n",
       "    <tr>\n",
       "      <th>From City</th>\n",
       "      <th>From Sublocation</th>\n",
       "      <th>To City</th>\n",
       "      <th>To Sublocation</th>\n",
       "      <th>Used truck Type</th>\n",
       "      <th>Product Name</th>\n",
       "      <th></th>\n",
       "      <th></th>\n",
       "      <th></th>\n",
       "      <th></th>\n",
       "      <th></th>\n",
       "      <th></th>\n",
       "      <th></th>\n",
       "      <th></th>\n",
       "      <th></th>\n",
       "      <th></th>\n",
       "      <th></th>\n",
       "      <th></th>\n",
       "      <th></th>\n",
       "      <th></th>\n",
       "      <th></th>\n",
       "    </tr>\n",
       "  </thead>\n",
       "  <tbody>\n",
       "    <tr>\n",
       "      <th rowspan=\"10\" valign=\"top\">Anjar</th>\n",
       "      <th>Lilashah Nagar</th>\n",
       "      <th>Agra</th>\n",
       "      <th>Dholpur House</th>\n",
       "      <th>27T/28T</th>\n",
       "      <th>Packaged Foods</th>\n",
       "      <td>284</td>\n",
       "      <td>284</td>\n",
       "      <td>284</td>\n",
       "      <td>283</td>\n",
       "      <td>284</td>\n",
       "      <td>284</td>\n",
       "      <td>284</td>\n",
       "      <td>0</td>\n",
       "      <td>0</td>\n",
       "      <td>282</td>\n",
       "      <td>77</td>\n",
       "      <td>208</td>\n",
       "      <td>284</td>\n",
       "      <td>0</td>\n",
       "      <td>284</td>\n",
       "    </tr>\n",
       "    <tr>\n",
       "      <th rowspan=\"3\" valign=\"top\">Kandla</th>\n",
       "      <th>Pathankot</th>\n",
       "      <th>Pathankot</th>\n",
       "      <th>30 MT</th>\n",
       "      <th>Coal</th>\n",
       "      <td>189</td>\n",
       "      <td>189</td>\n",
       "      <td>189</td>\n",
       "      <td>189</td>\n",
       "      <td>189</td>\n",
       "      <td>189</td>\n",
       "      <td>189</td>\n",
       "      <td>189</td>\n",
       "      <td>189</td>\n",
       "      <td>189</td>\n",
       "      <td>189</td>\n",
       "      <td>0</td>\n",
       "      <td>189</td>\n",
       "      <td>189</td>\n",
       "      <td>189</td>\n",
       "    </tr>\n",
       "    <tr>\n",
       "      <th>Vallabhnagar</th>\n",
       "      <th>Dabok</th>\n",
       "      <th>30 MT</th>\n",
       "      <th>Coal</th>\n",
       "      <td>149</td>\n",
       "      <td>149</td>\n",
       "      <td>149</td>\n",
       "      <td>149</td>\n",
       "      <td>149</td>\n",
       "      <td>149</td>\n",
       "      <td>149</td>\n",
       "      <td>149</td>\n",
       "      <td>149</td>\n",
       "      <td>149</td>\n",
       "      <td>149</td>\n",
       "      <td>0</td>\n",
       "      <td>149</td>\n",
       "      <td>149</td>\n",
       "      <td>149</td>\n",
       "    </tr>\n",
       "    <tr>\n",
       "      <th>Dholka</th>\n",
       "      <th>Dholka</th>\n",
       "      <th>30 MT</th>\n",
       "      <th>Coal</th>\n",
       "      <td>114</td>\n",
       "      <td>114</td>\n",
       "      <td>114</td>\n",
       "      <td>114</td>\n",
       "      <td>114</td>\n",
       "      <td>114</td>\n",
       "      <td>114</td>\n",
       "      <td>114</td>\n",
       "      <td>114</td>\n",
       "      <td>114</td>\n",
       "      <td>114</td>\n",
       "      <td>0</td>\n",
       "      <td>114</td>\n",
       "      <td>114</td>\n",
       "      <td>114</td>\n",
       "    </tr>\n",
       "    <tr>\n",
       "      <th>Lilashah Nagar</th>\n",
       "      <th>Agra</th>\n",
       "      <th>Dholpur House</th>\n",
       "      <th>27T/28T</th>\n",
       "      <th>Oil</th>\n",
       "      <td>110</td>\n",
       "      <td>110</td>\n",
       "      <td>110</td>\n",
       "      <td>110</td>\n",
       "      <td>110</td>\n",
       "      <td>110</td>\n",
       "      <td>110</td>\n",
       "      <td>110</td>\n",
       "      <td>110</td>\n",
       "      <td>110</td>\n",
       "      <td>110</td>\n",
       "      <td>1</td>\n",
       "      <td>110</td>\n",
       "      <td>110</td>\n",
       "      <td>110</td>\n",
       "    </tr>\n",
       "    <tr>\n",
       "      <th>Kandla</th>\n",
       "      <th>Pune</th>\n",
       "      <th>Kurkumbh</th>\n",
       "      <th>21T/20T</th>\n",
       "      <th>Agriculture</th>\n",
       "      <td>95</td>\n",
       "      <td>95</td>\n",
       "      <td>95</td>\n",
       "      <td>95</td>\n",
       "      <td>95</td>\n",
       "      <td>95</td>\n",
       "      <td>95</td>\n",
       "      <td>95</td>\n",
       "      <td>0</td>\n",
       "      <td>95</td>\n",
       "      <td>22</td>\n",
       "      <td>73</td>\n",
       "      <td>95</td>\n",
       "      <td>95</td>\n",
       "      <td>95</td>\n",
       "    </tr>\n",
       "    <tr>\n",
       "      <th>Gandhidham</th>\n",
       "      <th>Panipat</th>\n",
       "      <th>Panipat</th>\n",
       "      <th>27T/28T</th>\n",
       "      <th>Textiles</th>\n",
       "      <td>94</td>\n",
       "      <td>94</td>\n",
       "      <td>94</td>\n",
       "      <td>94</td>\n",
       "      <td>94</td>\n",
       "      <td>94</td>\n",
       "      <td>94</td>\n",
       "      <td>94</td>\n",
       "      <td>94</td>\n",
       "      <td>94</td>\n",
       "      <td>94</td>\n",
       "      <td>0</td>\n",
       "      <td>94</td>\n",
       "      <td>94</td>\n",
       "      <td>94</td>\n",
       "    </tr>\n",
       "    <tr>\n",
       "      <th>Dhaneti</th>\n",
       "      <th>Sinnar</th>\n",
       "      <th>Vijay Nagar</th>\n",
       "      <th>21T/20T</th>\n",
       "      <th>Non-metals</th>\n",
       "      <td>91</td>\n",
       "      <td>91</td>\n",
       "      <td>91</td>\n",
       "      <td>91</td>\n",
       "      <td>91</td>\n",
       "      <td>91</td>\n",
       "      <td>91</td>\n",
       "      <td>91</td>\n",
       "      <td>0</td>\n",
       "      <td>91</td>\n",
       "      <td>64</td>\n",
       "      <td>27</td>\n",
       "      <td>91</td>\n",
       "      <td>91</td>\n",
       "      <td>91</td>\n",
       "    </tr>\n",
       "    <tr>\n",
       "      <th rowspan=\"2\" valign=\"top\">Kandla</th>\n",
       "      <th>Karnal</th>\n",
       "      <th>Karnal</th>\n",
       "      <th>27T/28T</th>\n",
       "      <th>Oil</th>\n",
       "      <td>89</td>\n",
       "      <td>89</td>\n",
       "      <td>89</td>\n",
       "      <td>89</td>\n",
       "      <td>89</td>\n",
       "      <td>89</td>\n",
       "      <td>89</td>\n",
       "      <td>89</td>\n",
       "      <td>89</td>\n",
       "      <td>89</td>\n",
       "      <td>89</td>\n",
       "      <td>1</td>\n",
       "      <td>89</td>\n",
       "      <td>89</td>\n",
       "      <td>89</td>\n",
       "    </tr>\n",
       "    <tr>\n",
       "      <th>Muzaffarnagar</th>\n",
       "      <th>Muzaffarnagar</th>\n",
       "      <th>34T</th>\n",
       "      <th>Coal</th>\n",
       "      <td>88</td>\n",
       "      <td>88</td>\n",
       "      <td>88</td>\n",
       "      <td>88</td>\n",
       "      <td>88</td>\n",
       "      <td>88</td>\n",
       "      <td>88</td>\n",
       "      <td>88</td>\n",
       "      <td>84</td>\n",
       "      <td>88</td>\n",
       "      <td>84</td>\n",
       "      <td>4</td>\n",
       "      <td>88</td>\n",
       "      <td>88</td>\n",
       "      <td>88</td>\n",
       "    </tr>\n",
       "  </tbody>\n",
       "</table>\n",
       "</div>"
      ],
      "text/plain": [
       "                                                                                         Id  \\\n",
       "From City From Sublocation To City       To Sublocation Used truck Type Product Name          \n",
       "Anjar     Lilashah Nagar   Agra          Dholpur House  27T/28T         Packaged Foods  284   \n",
       "          Kandla           Pathankot     Pathankot      30 MT           Coal            189   \n",
       "                           Vallabhnagar  Dabok          30 MT           Coal            149   \n",
       "                           Dholka        Dholka         30 MT           Coal            114   \n",
       "          Lilashah Nagar   Agra          Dholpur House  27T/28T         Oil             110   \n",
       "          Kandla           Pune          Kurkumbh       21T/20T         Agriculture      95   \n",
       "          Gandhidham       Panipat       Panipat        27T/28T         Textiles         94   \n",
       "          Dhaneti          Sinnar        Vijay Nagar    21T/20T         Non-metals       91   \n",
       "          Kandla           Karnal        Karnal         27T/28T         Oil              89   \n",
       "                           Muzaffarnagar Muzaffarnagar  34T             Coal             88   \n",
       "\n",
       "                                                                                        Customer Name  \\\n",
       "From City From Sublocation To City       To Sublocation Used truck Type Product Name                    \n",
       "Anjar     Lilashah Nagar   Agra          Dholpur House  27T/28T         Packaged Foods            284   \n",
       "          Kandla           Pathankot     Pathankot      30 MT           Coal                      189   \n",
       "                           Vallabhnagar  Dabok          30 MT           Coal                      149   \n",
       "                           Dholka        Dholka         30 MT           Coal                      114   \n",
       "          Lilashah Nagar   Agra          Dholpur House  27T/28T         Oil                       110   \n",
       "          Kandla           Pune          Kurkumbh       21T/20T         Agriculture                95   \n",
       "          Gandhidham       Panipat       Panipat        27T/28T         Textiles                   94   \n",
       "          Dhaneti          Sinnar        Vijay Nagar    21T/20T         Non-metals                 91   \n",
       "          Kandla           Karnal        Karnal         27T/28T         Oil                        89   \n",
       "                           Muzaffarnagar Muzaffarnagar  34T             Coal                       88   \n",
       "\n",
       "                                                                                        Distance  \\\n",
       "From City From Sublocation To City       To Sublocation Used truck Type Product Name               \n",
       "Anjar     Lilashah Nagar   Agra          Dholpur House  27T/28T         Packaged Foods       284   \n",
       "          Kandla           Pathankot     Pathankot      30 MT           Coal                 189   \n",
       "                           Vallabhnagar  Dabok          30 MT           Coal                 149   \n",
       "                           Dholka        Dholka         30 MT           Coal                 114   \n",
       "          Lilashah Nagar   Agra          Dholpur House  27T/28T         Oil                  110   \n",
       "          Kandla           Pune          Kurkumbh       21T/20T         Agriculture           95   \n",
       "          Gandhidham       Panipat       Panipat        27T/28T         Textiles              94   \n",
       "          Dhaneti          Sinnar        Vijay Nagar    21T/20T         Non-metals            91   \n",
       "          Kandla           Karnal        Karnal         27T/28T         Oil                   89   \n",
       "                           Muzaffarnagar Muzaffarnagar  34T             Coal                  88   \n",
       "\n",
       "                                                                                        Order Value  \\\n",
       "From City From Sublocation To City       To Sublocation Used truck Type Product Name                  \n",
       "Anjar     Lilashah Nagar   Agra          Dholpur House  27T/28T         Packaged Foods          283   \n",
       "          Kandla           Pathankot     Pathankot      30 MT           Coal                    189   \n",
       "                           Vallabhnagar  Dabok          30 MT           Coal                    149   \n",
       "                           Dholka        Dholka         30 MT           Coal                    114   \n",
       "          Lilashah Nagar   Agra          Dholpur House  27T/28T         Oil                     110   \n",
       "          Kandla           Pune          Kurkumbh       21T/20T         Agriculture              95   \n",
       "          Gandhidham       Panipat       Panipat        27T/28T         Textiles                 94   \n",
       "          Dhaneti          Sinnar        Vijay Nagar    21T/20T         Non-metals               91   \n",
       "          Kandla           Karnal        Karnal         27T/28T         Oil                      89   \n",
       "                           Muzaffarnagar Muzaffarnagar  34T             Coal                     88   \n",
       "\n",
       "                                                                                        Warehouse Start Loc  \\\n",
       "From City From Sublocation To City       To Sublocation Used truck Type Product Name                          \n",
       "Anjar     Lilashah Nagar   Agra          Dholpur House  27T/28T         Packaged Foods                  284   \n",
       "          Kandla           Pathankot     Pathankot      30 MT           Coal                            189   \n",
       "                           Vallabhnagar  Dabok          30 MT           Coal                            149   \n",
       "                           Dholka        Dholka         30 MT           Coal                            114   \n",
       "          Lilashah Nagar   Agra          Dholpur House  27T/28T         Oil                             110   \n",
       "          Kandla           Pune          Kurkumbh       21T/20T         Agriculture                      95   \n",
       "          Gandhidham       Panipat       Panipat        27T/28T         Textiles                         94   \n",
       "          Dhaneti          Sinnar        Vijay Nagar    21T/20T         Non-metals                       91   \n",
       "          Kandla           Karnal        Karnal         27T/28T         Oil                              89   \n",
       "                           Muzaffarnagar Muzaffarnagar  34T             Coal                             88   \n",
       "\n",
       "                                                                                        Warehouse End Loc  \\\n",
       "From City From Sublocation To City       To Sublocation Used truck Type Product Name                        \n",
       "Anjar     Lilashah Nagar   Agra          Dholpur House  27T/28T         Packaged Foods                284   \n",
       "          Kandla           Pathankot     Pathankot      30 MT           Coal                          189   \n",
       "                           Vallabhnagar  Dabok          30 MT           Coal                          149   \n",
       "                           Dholka        Dholka         30 MT           Coal                          114   \n",
       "          Lilashah Nagar   Agra          Dholpur House  27T/28T         Oil                           110   \n",
       "          Kandla           Pune          Kurkumbh       21T/20T         Agriculture                    95   \n",
       "          Gandhidham       Panipat       Panipat        27T/28T         Textiles                       94   \n",
       "          Dhaneti          Sinnar        Vijay Nagar    21T/20T         Non-metals                     91   \n",
       "          Kandla           Karnal        Karnal         27T/28T         Oil                            89   \n",
       "                           Muzaffarnagar Muzaffarnagar  34T             Coal                           88   \n",
       "\n",
       "                                                                                        Sector Name  \\\n",
       "From City From Sublocation To City       To Sublocation Used truck Type Product Name                  \n",
       "Anjar     Lilashah Nagar   Agra          Dholpur House  27T/28T         Packaged Foods          284   \n",
       "          Kandla           Pathankot     Pathankot      30 MT           Coal                    189   \n",
       "                           Vallabhnagar  Dabok          30 MT           Coal                    149   \n",
       "                           Dholka        Dholka         30 MT           Coal                    114   \n",
       "          Lilashah Nagar   Agra          Dholpur House  27T/28T         Oil                     110   \n",
       "          Kandla           Pune          Kurkumbh       21T/20T         Agriculture              95   \n",
       "          Gandhidham       Panipat       Panipat        27T/28T         Textiles                 94   \n",
       "          Dhaneti          Sinnar        Vijay Nagar    21T/20T         Non-metals               91   \n",
       "          Kandla           Karnal        Karnal         27T/28T         Oil                      89   \n",
       "                           Muzaffarnagar Muzaffarnagar  34T             Coal                     88   \n",
       "\n",
       "                                                                                        Tonnage  \\\n",
       "From City From Sublocation To City       To Sublocation Used truck Type Product Name              \n",
       "Anjar     Lilashah Nagar   Agra          Dholpur House  27T/28T         Packaged Foods        0   \n",
       "          Kandla           Pathankot     Pathankot      30 MT           Coal                189   \n",
       "                           Vallabhnagar  Dabok          30 MT           Coal                149   \n",
       "                           Dholka        Dholka         30 MT           Coal                114   \n",
       "          Lilashah Nagar   Agra          Dholpur House  27T/28T         Oil                 110   \n",
       "          Kandla           Pune          Kurkumbh       21T/20T         Agriculture          95   \n",
       "          Gandhidham       Panipat       Panipat        27T/28T         Textiles             94   \n",
       "          Dhaneti          Sinnar        Vijay Nagar    21T/20T         Non-metals           91   \n",
       "          Kandla           Karnal        Karnal         27T/28T         Oil                  89   \n",
       "                           Muzaffarnagar Muzaffarnagar  34T             Coal                 88   \n",
       "\n",
       "                                                                                        Per Ton Rate  \\\n",
       "From City From Sublocation To City       To Sublocation Used truck Type Product Name                   \n",
       "Anjar     Lilashah Nagar   Agra          Dholpur House  27T/28T         Packaged Foods             0   \n",
       "          Kandla           Pathankot     Pathankot      30 MT           Coal                     189   \n",
       "                           Vallabhnagar  Dabok          30 MT           Coal                     149   \n",
       "                           Dholka        Dholka         30 MT           Coal                     114   \n",
       "          Lilashah Nagar   Agra          Dholpur House  27T/28T         Oil                      110   \n",
       "          Kandla           Pune          Kurkumbh       21T/20T         Agriculture                0   \n",
       "          Gandhidham       Panipat       Panipat        27T/28T         Textiles                  94   \n",
       "          Dhaneti          Sinnar        Vijay Nagar    21T/20T         Non-metals                 0   \n",
       "          Kandla           Karnal        Karnal         27T/28T         Oil                       89   \n",
       "                           Muzaffarnagar Muzaffarnagar  34T             Coal                      84   \n",
       "\n",
       "                                                                                        Freight Amount  \\\n",
       "From City From Sublocation To City       To Sublocation Used truck Type Product Name                     \n",
       "Anjar     Lilashah Nagar   Agra          Dholpur House  27T/28T         Packaged Foods             282   \n",
       "          Kandla           Pathankot     Pathankot      30 MT           Coal                       189   \n",
       "                           Vallabhnagar  Dabok          30 MT           Coal                       149   \n",
       "                           Dholka        Dholka         30 MT           Coal                       114   \n",
       "          Lilashah Nagar   Agra          Dholpur House  27T/28T         Oil                        110   \n",
       "          Kandla           Pune          Kurkumbh       21T/20T         Agriculture                 95   \n",
       "          Gandhidham       Panipat       Panipat        27T/28T         Textiles                    94   \n",
       "          Dhaneti          Sinnar        Vijay Nagar    21T/20T         Non-metals                  91   \n",
       "          Kandla           Karnal        Karnal         27T/28T         Oil                         89   \n",
       "                           Muzaffarnagar Muzaffarnagar  34T             Coal                        88   \n",
       "\n",
       "                                                                                        Order Accepted  \\\n",
       "From City From Sublocation To City       To Sublocation Used truck Type Product Name                     \n",
       "Anjar     Lilashah Nagar   Agra          Dholpur House  27T/28T         Packaged Foods              77   \n",
       "          Kandla           Pathankot     Pathankot      30 MT           Coal                       189   \n",
       "                           Vallabhnagar  Dabok          30 MT           Coal                       149   \n",
       "                           Dholka        Dholka         30 MT           Coal                       114   \n",
       "          Lilashah Nagar   Agra          Dholpur House  27T/28T         Oil                        110   \n",
       "          Kandla           Pune          Kurkumbh       21T/20T         Agriculture                 22   \n",
       "          Gandhidham       Panipat       Panipat        27T/28T         Textiles                    94   \n",
       "          Dhaneti          Sinnar        Vijay Nagar    21T/20T         Non-metals                  64   \n",
       "          Kandla           Karnal        Karnal         27T/28T         Oil                         89   \n",
       "                           Muzaffarnagar Muzaffarnagar  34T             Coal                        84   \n",
       "\n",
       "                                                                                        Order Blocked  \\\n",
       "From City From Sublocation To City       To Sublocation Used truck Type Product Name                    \n",
       "Anjar     Lilashah Nagar   Agra          Dholpur House  27T/28T         Packaged Foods            208   \n",
       "          Kandla           Pathankot     Pathankot      30 MT           Coal                        0   \n",
       "                           Vallabhnagar  Dabok          30 MT           Coal                        0   \n",
       "                           Dholka        Dholka         30 MT           Coal                        0   \n",
       "          Lilashah Nagar   Agra          Dholpur House  27T/28T         Oil                         1   \n",
       "          Kandla           Pune          Kurkumbh       21T/20T         Agriculture                73   \n",
       "          Gandhidham       Panipat       Panipat        27T/28T         Textiles                    0   \n",
       "          Dhaneti          Sinnar        Vijay Nagar    21T/20T         Non-metals                 27   \n",
       "          Kandla           Karnal        Karnal         27T/28T         Oil                         1   \n",
       "                           Muzaffarnagar Muzaffarnagar  34T             Coal                        4   \n",
       "\n",
       "                                                                                        date  \\\n",
       "From City From Sublocation To City       To Sublocation Used truck Type Product Name           \n",
       "Anjar     Lilashah Nagar   Agra          Dholpur House  27T/28T         Packaged Foods   284   \n",
       "          Kandla           Pathankot     Pathankot      30 MT           Coal             189   \n",
       "                           Vallabhnagar  Dabok          30 MT           Coal             149   \n",
       "                           Dholka        Dholka         30 MT           Coal             114   \n",
       "          Lilashah Nagar   Agra          Dholpur House  27T/28T         Oil              110   \n",
       "          Kandla           Pune          Kurkumbh       21T/20T         Agriculture       95   \n",
       "          Gandhidham       Panipat       Panipat        27T/28T         Textiles          94   \n",
       "          Dhaneti          Sinnar        Vijay Nagar    21T/20T         Non-metals        91   \n",
       "          Kandla           Karnal        Karnal         27T/28T         Oil               89   \n",
       "                           Muzaffarnagar Muzaffarnagar  34T             Coal              88   \n",
       "\n",
       "                                                                                        ptr  \\\n",
       "From City From Sublocation To City       To Sublocation Used truck Type Product Name          \n",
       "Anjar     Lilashah Nagar   Agra          Dholpur House  27T/28T         Packaged Foods    0   \n",
       "          Kandla           Pathankot     Pathankot      30 MT           Coal            189   \n",
       "                           Vallabhnagar  Dabok          30 MT           Coal            149   \n",
       "                           Dholka        Dholka         30 MT           Coal            114   \n",
       "          Lilashah Nagar   Agra          Dholpur House  27T/28T         Oil             110   \n",
       "          Kandla           Pune          Kurkumbh       21T/20T         Agriculture      95   \n",
       "          Gandhidham       Panipat       Panipat        27T/28T         Textiles         94   \n",
       "          Dhaneti          Sinnar        Vijay Nagar    21T/20T         Non-metals       91   \n",
       "          Kandla           Karnal        Karnal         27T/28T         Oil              89   \n",
       "                           Muzaffarnagar Muzaffarnagar  34T             Coal             88   \n",
       "\n",
       "                                                                                          d  \n",
       "From City From Sublocation To City       To Sublocation Used truck Type Product Name         \n",
       "Anjar     Lilashah Nagar   Agra          Dholpur House  27T/28T         Packaged Foods  284  \n",
       "          Kandla           Pathankot     Pathankot      30 MT           Coal            189  \n",
       "                           Vallabhnagar  Dabok          30 MT           Coal            149  \n",
       "                           Dholka        Dholka         30 MT           Coal            114  \n",
       "          Lilashah Nagar   Agra          Dholpur House  27T/28T         Oil             110  \n",
       "          Kandla           Pune          Kurkumbh       21T/20T         Agriculture      95  \n",
       "          Gandhidham       Panipat       Panipat        27T/28T         Textiles         94  \n",
       "          Dhaneti          Sinnar        Vijay Nagar    21T/20T         Non-metals       91  \n",
       "          Kandla           Karnal        Karnal         27T/28T         Oil              89  \n",
       "                           Muzaffarnagar Muzaffarnagar  34T             Coal             88  "
      ]
     },
     "execution_count": 44,
     "metadata": {},
     "output_type": "execute_result"
    }
   ],
   "source": [
    "# Lets Group By by ('From City', 'From Sublocation', 'To City', 'To Sublocation', 'Used truck Type', 'Product Name')\n",
    "kpi.groupby(['From City', 'From Sublocation', 'To City', 'To Sublocation', 'Used truck Type', 'Product Name']).count().nlargest(10, 'Id')"
   ]
  },
  {
   "cell_type": "code",
   "execution_count": 45,
   "metadata": {},
   "outputs": [
    {
     "data": {
      "text/html": [
       "<div>\n",
       "<style>\n",
       "    .dataframe thead tr:only-child th {\n",
       "        text-align: right;\n",
       "    }\n",
       "\n",
       "    .dataframe thead th {\n",
       "        text-align: left;\n",
       "    }\n",
       "\n",
       "    .dataframe tbody tr th {\n",
       "        vertical-align: top;\n",
       "    }\n",
       "</style>\n",
       "<table border=\"1\" class=\"dataframe\">\n",
       "  <thead>\n",
       "    <tr style=\"text-align: right;\">\n",
       "      <th></th>\n",
       "      <th>Id</th>\n",
       "      <th>Customer Name</th>\n",
       "      <th>To City</th>\n",
       "      <th>Distance</th>\n",
       "      <th>From Sublocation</th>\n",
       "      <th>To Sublocation</th>\n",
       "      <th>Order Value</th>\n",
       "      <th>Used truck Type</th>\n",
       "      <th>Warehouse Start Loc</th>\n",
       "      <th>Warehouse End Loc</th>\n",
       "      <th>Sector Name</th>\n",
       "      <th>Tonnage</th>\n",
       "      <th>Per Ton Rate</th>\n",
       "      <th>Product Name</th>\n",
       "      <th>Freight Amount</th>\n",
       "      <th>Order Accepted</th>\n",
       "      <th>Order Blocked</th>\n",
       "      <th>date</th>\n",
       "      <th>ptr</th>\n",
       "      <th>d</th>\n",
       "    </tr>\n",
       "    <tr>\n",
       "      <th>From City</th>\n",
       "      <th></th>\n",
       "      <th></th>\n",
       "      <th></th>\n",
       "      <th></th>\n",
       "      <th></th>\n",
       "      <th></th>\n",
       "      <th></th>\n",
       "      <th></th>\n",
       "      <th></th>\n",
       "      <th></th>\n",
       "      <th></th>\n",
       "      <th></th>\n",
       "      <th></th>\n",
       "      <th></th>\n",
       "      <th></th>\n",
       "      <th></th>\n",
       "      <th></th>\n",
       "      <th></th>\n",
       "      <th></th>\n",
       "      <th></th>\n",
       "    </tr>\n",
       "  </thead>\n",
       "  <tbody>\n",
       "    <tr>\n",
       "      <th>Anjar</th>\n",
       "      <td>6033</td>\n",
       "      <td>6033</td>\n",
       "      <td>6033</td>\n",
       "      <td>6033</td>\n",
       "      <td>6033</td>\n",
       "      <td>6033</td>\n",
       "      <td>5143</td>\n",
       "      <td>5134</td>\n",
       "      <td>6033</td>\n",
       "      <td>6033</td>\n",
       "      <td>6033</td>\n",
       "      <td>5102</td>\n",
       "      <td>2876</td>\n",
       "      <td>6033</td>\n",
       "      <td>5126</td>\n",
       "      <td>4361</td>\n",
       "      <td>1689</td>\n",
       "      <td>6033</td>\n",
       "      <td>4283</td>\n",
       "      <td>6033</td>\n",
       "    </tr>\n",
       "  </tbody>\n",
       "</table>\n",
       "</div>"
      ],
      "text/plain": [
       "             Id  Customer Name  To City  Distance  From Sublocation  \\\n",
       "From City                                                             \n",
       "Anjar      6033           6033     6033      6033              6033   \n",
       "\n",
       "           To Sublocation  Order Value  Used truck Type  Warehouse Start Loc  \\\n",
       "From City                                                                      \n",
       "Anjar                6033         5143             5134                 6033   \n",
       "\n",
       "           Warehouse End Loc  Sector Name  Tonnage  Per Ton Rate  \\\n",
       "From City                                                          \n",
       "Anjar                   6033         6033     5102          2876   \n",
       "\n",
       "           Product Name  Freight Amount  Order Accepted  Order Blocked  date  \\\n",
       "From City                                                                      \n",
       "Anjar              6033            5126            4361           1689  6033   \n",
       "\n",
       "            ptr     d  \n",
       "From City              \n",
       "Anjar      4283  6033  "
      ]
     },
     "execution_count": 45,
     "metadata": {},
     "output_type": "execute_result"
    }
   ],
   "source": [
    "# Group by From City\n",
    "kpi.groupby(['From City']).count().nlargest(10, 'Id')"
   ]
  },
  {
   "cell_type": "code",
   "execution_count": 46,
   "metadata": {
    "collapsed": true
   },
   "outputs": [],
   "source": [
    "# Let's work out on Top 3 lane based on count of orders\n",
    "s1 = kpi[(kpi['From Sublocation']=='Kandla') & (kpi['To Sublocation']=='Pathankot') & (kpi['Used truck Type']=='30 MT') & (kpi['Product Name']=='Coal')]\n",
    "s2 = kpi[(kpi['From Sublocation']=='Kandla') & (kpi['To Sublocation']=='Dabok') & (kpi['Used truck Type']=='30 MT') & (kpi['Product Name']=='Coal')]\n",
    "s3 = kpi[(kpi['From Sublocation']=='Kandla') & (kpi['To Sublocation']=='Dholka') & (kpi['Used truck Type']=='30 MT') & (kpi['Product Name']=='Coal')]\n",
    "# We are droping Anjar-Agra as there is no info about Tonnage, we will see it later on\n",
    "s4 = kpi[(kpi['From Sublocation']=='Lilashah Nagar') & (kpi['To Sublocation']=='Dholpur House') & (kpi['Used truck Type']=='27T/28T') & (kpi['Product Name']=='Packaged Foods')]"
   ]
  },
  {
   "cell_type": "code",
   "execution_count": 47,
   "metadata": {},
   "outputs": [
    {
     "data": {
      "text/plain": [
       "[<matplotlib.axes._subplots.AxesSubplot at 0x10d86ed50>,\n",
       " <matplotlib.axes._subplots.AxesSubplot at 0x10d86ed50>,\n",
       " <matplotlib.axes._subplots.AxesSubplot at 0x10d86ed50>]"
      ]
     },
     "execution_count": 47,
     "metadata": {},
     "output_type": "execute_result"
    },
    {
     "data": {
      "image/png": "[encoded data removed]",
      "text/plain": [
       "<matplotlib.figure.Figure at 0x10c491f50>"
      ]
     },
     "metadata": {},
     "output_type": "display_data"
    }
   ],
   "source": [
    "# per km per ton price for the shorter lane is higher than longer lanes \n",
    "# that may be inferred due to fixed cost of driver\n",
    "s = [s1, s2, s3]\n",
    "sp = [Series(x['ptr'].values, index=x['d']) for x in s]\n",
    "[x.plot() for x in sp]\n",
    "\n"
   ]
  },
  {
   "cell_type": "code",
   "execution_count": 48,
   "metadata": {},
   "outputs": [
    {
     "data": {
      "text/plain": [
       "[<matplotlib.axes._subplots.AxesSubplot at 0x10c2acf10>,\n",
       " <matplotlib.axes._subplots.AxesSubplot at 0x10c2acf10>,\n",
       " <matplotlib.axes._subplots.AxesSubplot at 0x10c2acf10>]"
      ]
     },
     "execution_count": 48,
     "metadata": {},
     "output_type": "execute_result"
    },
    {
     "data": {
      "image/png": "[encoded data removed]",
      "text/plain": [
       "<matplotlib.figure.Figure at 0x10c5c3f10>"
      ]
     },
     "metadata": {},
     "output_type": "display_data"
    }
   ],
   "source": [
    "s = [s1, s2, s3]\n",
    "s = [Series(x['Per Ton Rate'].values, index=x['d']) for x in s]\n",
    "[x.plot(label=\"sdfa\") for x in s]"
   ]
  },
  {
   "cell_type": "code",
   "execution_count": 49,
   "metadata": {},
   "outputs": [
    {
     "name": "stdout",
     "output_type": "stream",
     "text": [
      "[189, 149, 114]\n",
      "[52, 17, 50]\n"
     ]
    }
   ],
   "source": [
    "# lets try to run some models now\n",
    "# Let's resample series into 1day bucket and filling missing values by mean\n",
    "s_fna = [x.resample(\"1d\").mean().fillna(method=\"ffill\") for x in s]\n",
    "s_len = [len(x) for x in s]\n",
    "print s_len\n",
    "s_len = [len(x) for x in s_fna]\n",
    "print s_len"
   ]
  },
  {
   "cell_type": "code",
   "execution_count": 51,
   "metadata": {},
   "outputs": [
    {
     "name": "stdout",
     "output_type": "stream",
     "text": [
      ">predicted=2697.488, expected=2614.286, err=3.183\n",
      ">predicted=2616.085, expected=2614.286, err=0.069\n",
      ">predicted=2620.268, expected=2542.308, err=3.067\n",
      ">predicted=2530.152, expected=2500.000, err=1.206\n",
      ">predicted=2486.349, expected=2450.000, err=1.484\n",
      ">predicted=2424.972, expected=2350.000, err=3.190\n",
      ">predicted=2315.886, expected=2300.000, err=0.691\n",
      ">predicted=2259.033, expected=2250.000, err=0.401\n",
      ">predicted=2201.829, expected=2184.000, err=0.816\n",
      ">predicted=2139.768, expected=2243.333, err=4.617\n",
      ">predicted=2217.361, expected=2250.000, err=1.451\n",
      ">predicted=2238.978, expected=2250.000, err=0.490\n",
      ">predicted=2260.827, expected=2250.000, err=0.481\n",
      ">predicted=2253.118, expected=2300.000, err=2.038\n",
      ">predicted=2304.880, expected=2300.000, err=0.212\n",
      ">predicted=2306.839, expected=2300.000, err=0.297\n",
      ">predicted=2311.295, expected=2300.000, err=0.491\n",
      ">predicted=2302.415, expected=2300.000, err=0.105\n",
      ">predicted=2300.365, expected=2300.000, err=0.016\n",
      ">predicted=2299.889, expected=2300.000, err=0.005\n",
      ">predicted=2299.780, expected=2300.000, err=0.010\n",
      ">predicted=2299.758, expected=2450.000, err=6.132\n",
      "Test RMSE: 51.571, MAE:33.113, Err:1.384\n"
     ]
    },
    {
     "data": {
      "text/plain": [
       "<matplotlib.legend.Legend at 0x10c4a9bd0>"
      ]
     },
     "execution_count": 51,
     "metadata": {},
     "output_type": "execute_result"
    },
    {
     "data": {
      "image/png": "[encoded data removed]",
      "text/plain": [
       "<matplotlib.figure.Figure at 0x10d602d10>"
      ]
     },
     "metadata": {},
     "output_type": "display_data"
    }
   ],
   "source": [
    "pred, act = runArimaForTs(s_fna[0], 22, 3, 1, 1 )\n",
    "plt.legend()\n"
   ]
  },
  {
   "cell_type": "code",
   "execution_count": 88,
   "metadata": {},
   "outputs": [
    {
     "name": "stdout",
     "output_type": "stream",
     "text": [
      ">predicted=2700.529, expected=2614.286, err=3.299\n",
      ">predicted=2610.099, expected=2614.286, err=0.160\n",
      ">predicted=2609.998, expected=2542.308, err=2.663\n",
      ">predicted=2511.104, expected=2500.000, err=0.444\n",
      ">predicted=2465.461, expected=2450.000, err=0.631\n",
      ">predicted=2405.846, expected=2350.000, err=2.376\n",
      ">predicted=2295.764, expected=2300.000, err=0.184\n",
      ">predicted=2239.138, expected=2250.000, err=0.483\n",
      ">predicted=2182.418, expected=2184.000, err=0.072\n",
      ">predicted=2119.015, expected=2243.333, err=5.542\n",
      ">predicted=2200.874, expected=2250.000, err=2.183\n",
      ">predicted=2223.407, expected=2250.000, err=1.182\n",
      ">predicted=2246.593, expected=2250.000, err=0.151\n",
      ">predicted=2235.507, expected=2300.000, err=2.804\n",
      ">predicted=2295.784, expected=2300.000, err=0.183\n",
      ">predicted=2299.281, expected=2300.000, err=0.031\n",
      ">predicted=2303.012, expected=2300.000, err=0.131\n",
      ">predicted=2290.817, expected=2300.000, err=0.399\n",
      ">predicted=2291.112, expected=2300.000, err=0.386\n",
      ">predicted=2291.590, expected=2300.000, err=0.366\n",
      ">predicted=2292.026, expected=2300.000, err=0.347\n",
      ">predicted=2292.425, expected=2450.000, err=6.432\n",
      "Test RMSE: 53.750, MAE:32.960, Err:1.384\n",
      ">predicted=2697.488, expected=2614.286, err=3.183\n",
      ">predicted=2616.085, expected=2614.286, err=0.069\n",
      ">predicted=2620.268, expected=2542.308, err=3.067\n",
      ">predicted=2530.152, expected=2500.000, err=1.206\n",
      ">predicted=2486.349, expected=2450.000, err=1.484\n",
      ">predicted=2424.972, expected=2350.000, err=3.190\n",
      ">predicted=2315.886, expected=2300.000, err=0.691\n",
      ">predicted=2259.033, expected=2250.000, err=0.401\n",
      ">predicted=2201.829, expected=2184.000, err=0.816\n",
      ">predicted=2139.768, expected=2243.333, err=4.617\n",
      ">predicted=2217.361, expected=2250.000, err=1.451\n",
      ">predicted=2238.978, expected=2250.000, err=0.490\n",
      ">predicted=2260.827, expected=2250.000, err=0.481\n",
      ">predicted=2253.118, expected=2300.000, err=2.038\n",
      ">predicted=2304.880, expected=2300.000, err=0.212\n",
      ">predicted=2306.839, expected=2300.000, err=0.297\n",
      ">predicted=2311.295, expected=2300.000, err=0.491\n",
      ">predicted=2302.415, expected=2300.000, err=0.105\n",
      ">predicted=2300.365, expected=2300.000, err=0.016\n",
      ">predicted=2299.889, expected=2300.000, err=0.005\n",
      ">predicted=2299.780, expected=2300.000, err=0.010\n",
      ">predicted=2299.758, expected=2450.000, err=6.132\n",
      "Test RMSE: 51.571, MAE:33.113, Err:1.384\n"
     ]
    },
    {
     "data": {
      "text/plain": [
       "<matplotlib.legend.Legend at 0x10f024910>"
      ]
     },
     "execution_count": 88,
     "metadata": {},
     "output_type": "execute_result"
    },
    {
     "data": {
      "image/png": "[encoded data removed]",
      "text/plain": [
       "<matplotlib.figure.Figure at 0x10ed29310>"
      ]
     },
     "metadata": {},
     "output_type": "display_data"
    }
   ],
   "source": [
    "# runArimaForTS takes a pandas.Series with dateIndex and T as number of Test Points, (ar, i, ma) as arima params \n",
    "def runArimaForTs2(series, T, I, ar, i, ma):\n",
    "    X = series.values\n",
    "    size = len(X) - T\n",
    "    train, test = X[0:size], X[size:]\n",
    "    history = [x for x in train]\n",
    "    predictions = list()\n",
    "    errs = []\n",
    "    for t in range(len(test)):\n",
    "        differenced = difference(history, I)\n",
    "        model = ARIMA(differenced, order=(ar,i,ma))\n",
    "        model_fit = model.fit(disp=False)\n",
    "        # one-step out-of sample forecast\n",
    "        pred = (model_fit.forecast()[0][0])\n",
    "        # invert the differenced forecast\n",
    "        pred = inverse_difference(history, pred, I)\n",
    "        predictions.append(pred)\n",
    "        obs = test[t]\n",
    "        history.append(obs)\n",
    "        err=pererr(abs(obs-pred),obs)\n",
    "        errs.append(err)\n",
    "        print('>predicted=%.3f, expected=%.3f, err=%.3f' % (pred, obs, err))\n",
    "    rmse = sqrt(mean_squared_error(test, predictions))\n",
    "    mae = mean_absolute_error(test, predictions)\n",
    "    print('Test RMSE: %.3f, MAE:%.3f, Err:%.3f'% (rmse, mae, mean(errs)))\n",
    "    acts =Series(test, series.index[size:])\n",
    "    preds=Series(predictions, series.index[size:])\n",
    "    preds.plot(color=\"red\", label=\"Prediction\")\n",
    "    acts.plot(color=\"blue\", label=\"Expected\")\n",
    "    return (predictions, test)"
   ]
  },
  {
   "cell_type": "code",
   "execution_count": 71,
   "metadata": {},
   "outputs": [
    {
     "data": {
      "text/plain": [
       "array([ 2614.28571429,  2614.28571429,  2542.30769231,  2500.        ,\n",
       "        2450.        ,  2350.        ,  2300.        ,  2250.        ,\n",
       "        2184.        ,  2243.33333333,  2250.        ,  2250.        ,\n",
       "        2250.        ,  2300.        ,  2300.        ,  2300.        ,\n",
       "        2300.        ,  2300.        ,  2300.        ,  2300.        ,\n",
       "        2300.        ,  2450.        ])"
      ]
     },
     "execution_count": 71,
     "metadata": {},
     "output_type": "execute_result"
    }
   ],
   "source": [
    "act"
   ]
  },
  {
   "cell_type": "code",
   "execution_count": 55,
   "metadata": {},
   "outputs": [
    {
     "name": "stdout",
     "output_type": "stream",
     "text": [
      ">predicted=952.944, expected=950.000, err=0.310\n",
      "Test RMSE: 2.944, MAE:2.944, Err:0.310\n"
     ]
    },
    {
     "data": {
      "text/plain": [
       "<matplotlib.legend.Legend at 0x10c2ac7d0>"
      ]
     },
     "execution_count": 55,
     "metadata": {},
     "output_type": "execute_result"
    },
    {
     "data": {
      "image/png": "[encoded data removed]",
      "text/plain": [
       "<matplotlib.figure.Figure at 0x10ad98810>"
      ]
     },
     "metadata": {},
     "output_type": "display_data"
    }
   ],
   "source": [
    "pred, act = runArimaForTs(s_fna[1], 1, 3, 1, 1 )\n",
    "plt.legend()"
   ]
  },
  {
   "cell_type": "code",
   "execution_count": 57,
   "metadata": {},
   "outputs": [
    {
     "name": "stdout",
     "output_type": "stream",
     "text": [
      ">predicted=749.047, expected=750.000, err=0.127\n",
      ">predicted=749.026, expected=750.000, err=0.130\n",
      ">predicted=748.906, expected=780.000, err=3.986\n",
      ">predicted=778.347, expected=780.000, err=0.212\n",
      ">predicted=778.179, expected=780.000, err=0.234\n",
      ">predicted=775.567, expected=780.000, err=0.568\n",
      ">predicted=775.707, expected=780.000, err=0.550\n",
      ">predicted=775.903, expected=780.000, err=0.525\n",
      ">predicted=776.083, expected=780.000, err=0.502\n",
      ">predicted=776.247, expected=780.000, err=0.481\n"
     ]
    },
    {
     "name": "stderr",
     "output_type": "stream",
     "text": [
      "/Library/Python/2.7/site-packages/statsmodels/base/model.py:496: ConvergenceWarning: Maximum Likelihood optimization failed to converge. Check mle_retvals\n",
      "  \"Check mle_retvals\", ConvergenceWarning)\n"
     ]
    },
    {
     "name": "stdout",
     "output_type": "stream",
     "text": [
      ">predicted=776.398, expected=780.000, err=0.462\n",
      ">predicted=776.538, expected=780.000, err=0.444\n",
      ">predicted=776.666, expected=780.000, err=0.427\n",
      ">predicted=776.786, expected=780.000, err=0.412\n",
      ">predicted=776.897, expected=750.000, err=3.586\n",
      ">predicted=747.861, expected=750.000, err=0.285\n",
      ">predicted=747.278, expected=750.000, err=0.363\n",
      ">predicted=749.343, expected=750.000, err=0.088\n",
      ">predicted=749.067, expected=750.000, err=0.124\n",
      ">predicted=748.775, expected=750.000, err=0.163\n",
      ">predicted=748.502, expected=750.000, err=0.200\n",
      ">predicted=748.248, expected=750.000, err=0.234\n",
      "Test RMSE: 9.168, MAE:4.928, Err:0.641\n"
     ]
    },
    {
     "data": {
      "text/plain": [
       "<matplotlib.legend.Legend at 0x10c084990>"
      ]
     },
     "execution_count": 57,
     "metadata": {},
     "output_type": "execute_result"
    },
    {
     "data": {
      "image/png": "[encoded data removed]",
      "text/plain": [
       "<matplotlib.figure.Figure at 0x10add3390>"
      ]
     },
     "metadata": {},
     "output_type": "display_data"
    }
   ],
   "source": [
    "pred, act = runArimaForTs(s_fna[2], 22, 3, 1, 1 )\n",
    "plt.legend()"
   ]
  },
  {
   "cell_type": "code",
   "execution_count": null,
   "metadata": {
    "collapsed": true
   },
   "outputs": [],
   "source": []
  }
 ],
 "metadata": {
  "kernelspec": {
   "display_name": "Python 2",
   "language": "python",
   "name": "python2"
  },
  "language_info": {
   "codemirror_mode": {
    "name": "ipython",
    "version": 2
   },
   "file_extension": ".py",
   "mimetype": "text/x-python",
   "name": "python",
   "nbconvert_exporter": "python",
   "pygments_lexer": "ipython2",
   "version": "2.7.10"
  }
 },
 "nbformat": 4,
 "nbformat_minor": 2
}
