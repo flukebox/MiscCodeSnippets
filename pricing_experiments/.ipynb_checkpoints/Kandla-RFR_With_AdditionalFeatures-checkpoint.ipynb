{
 "cells": [
  {
   "cell_type": "code",
   "execution_count": 1,
   "metadata": {},
   "outputs": [
    {
     "name": "stderr",
     "output_type": "stream",
     "text": [
      "/Library/Python/2.7/site-packages/statsmodels/compat/pandas.py:56: FutureWarning: The pandas.core.datetools module is deprecated and will be removed in a future version. Please use the pandas.tseries module instead.\n",
      "  from pandas.core import datetools\n"
     ]
    }
   ],
   "source": [
    "# Some code is shamelessly copied from Learning Blogs\n",
    "%matplotlib inline\n",
    "import numpy as np\n",
    "import pandas as pd\n",
    "from pandas import Series\n",
    "from pandas import DataFrame\n",
    "from pandas import concat\n",
    "from statsmodels.tsa.arima_model import ARIMA\n",
    "from statsmodels.tsa.seasonal import seasonal_decompose\n",
    "from sklearn.metrics import mean_squared_error, mean_absolute_error\n",
    "from sklearn.ensemble import RandomForestRegressor\n",
    "from sklearn.feature_extraction import DictVectorizer\n",
    "from math import sqrt\n",
    "import matplotlib.pyplot as plt\n",
    "from sklearn.svm import SVR\n",
    "from pylab import rcParams\n",
    "import math\n",
    "import zipfile\n",
    "from datetime import datetime\n",
    "from dateutil import parser\n",
    "import datetime\n",
    "import random\n",
    "\n",
    "pd.set_option('display.max_columns', None)\n",
    "rcParams['figure.figsize'] = 15, 5\n",
    "\n",
    "\n",
    "def parseDate(d):\n",
    "    try:\n",
    "        return parser.parse(d)        \n",
    "    except:\n",
    "        return None\n",
    "\n",
    "def maxD(v):\n",
    "    dt1 = parseDate(v[0])\n",
    "    dt2 = parseDate(v[1])\n",
    "    if dt1 is not None and dt2 is not None:\n",
    "        return max(dt1, dt2)\n",
    "    elif dt1 is not None:\n",
    "        return dt1\n",
    "    else:\n",
    "        return dt2\n",
    "    \n",
    "def addDelta(v):\n",
    "    delta = datetime.timedelta(0,random.randint(1, 15), random.randint(1, 1001))\n",
    "    dt = parseDate(str(v[0]))\n",
    "    if dt is not None:\n",
    "        return dt+delta\n",
    "    else:\n",
    "        return dt\n",
    "    \n",
    "\n",
    "    \n",
    "def num(s):\n",
    "    try:\n",
    "        return int(s[0])\n",
    "    except ValueError:\n",
    "        return float(s[0])\n",
    "    except ValueError:\n",
    "        return None\n",
    "\n",
    "def differ(v):\n",
    "    d1 = num(v[0])\n",
    "    d2 = num(v[1])\n",
    "    if d1 is not None and d2 is not None and abs(d1-d2)<=10:\n",
    "        return False\n",
    "    else:\n",
    "        return True\n",
    "    \n",
    "def pererr(err, avg):\n",
    "    return (err/avg)*100\n",
    "\n",
    "def mean(l):\n",
    "    return reduce(lambda x, y: x + y, l) / len(l)\n",
    "\n",
    "# create a differenced series\n",
    "def difference(dataset, interval=1):\n",
    "    diff = list()\n",
    "    for i in range(interval, len(dataset)):\n",
    "        value = dataset[i] - dataset[i - interval]\n",
    "        diff.append(value)\n",
    "    return np.array(diff)\n",
    "\n",
    "\n",
    "# invert differenced value\n",
    "def inverse_difference(history, pred, interval=1):\n",
    "    return pred + history[-interval]\n",
    "\n",
    "    \n",
    "def predict(coef, history):\n",
    "    pred = 0.0\n",
    "    for i in range(1, len(coef)+1):\n",
    "        pred += coef[i-1] * history[-i]\n",
    "    return pred    \n",
    " "
   ]
  },
  {
   "cell_type": "code",
   "execution_count": 2,
   "metadata": {},
   "outputs": [
    {
     "name": "stderr",
     "output_type": "stream",
     "text": [
      "/Library/Python/2.7/site-packages/IPython/core/interactiveshell.py:2718: DtypeWarning: Columns (27,31,33,68,69,92,94,98,106,110,112,113,114,117,119,121,124,129,130,131,132,133,134,135,137,138) have mixed types. Specify dtype option on import or set low_memory=False.\n",
      "  interactivity=interactivity, compiler=compiler, result=result)\n"
     ]
    }
   ],
   "source": [
    "zf = zipfile.ZipFile('data/order-reports_18_09_2017_22_44.csv.zip') \n",
    "kp = pd.read_csv(zf.open('order-reports_18_09_2017_22_44.csv'), header=0)"
   ]
  },
  {
   "cell_type": "code",
   "execution_count": 4,
   "metadata": {},
   "outputs": [
    {
     "data": {
      "text/plain": [
       "Id                     8825\n",
       "Customer Name          8825\n",
       "From City              8825\n",
       "To City                8825\n",
       "Distance               8810\n",
       "From Sublocation       8825\n",
       "To Sublocation         8825\n",
       "Order Value            6914\n",
       "Used truck Type        6899\n",
       "Warehouse Start Loc    8825\n",
       "Warehouse End Loc      8825\n",
       "Sector Name            8825\n",
       "Tonnage                6972\n",
       "Per Ton Rate           3431\n",
       "Product Name           8825\n",
       "Freight Amount         6889\n",
       "Order Accepted         5850\n",
       "Order Blocked          2152\n",
       "dtype: int64"
      ]
     },
     "execution_count": 4,
     "metadata": {},
     "output_type": "execute_result"
    }
   ],
   "source": [
    "kpi=kp.iloc[:, \n",
    "          [0, 2, 6, 7, 8, 9, 10, 11, 14, 20, 22, \n",
    "           37, 38, 39, 75, 41, 93, 95]]\n",
    "kpi.count()\n"
   ]
  },
  {
   "cell_type": "code",
   "execution_count": 5,
   "metadata": {},
   "outputs": [
    {
     "name": "stderr",
     "output_type": "stream",
     "text": [
      "/Library/Python/2.7/site-packages/ipykernel_launcher.py:2: SettingWithCopyWarning: \n",
      "A value is trying to be set on a copy of a slice from a DataFrame.\n",
      "Try using .loc[row_indexer,col_indexer] = value instead\n",
      "\n",
      "See the caveats in the documentation: http://pandas.pydata.org/pandas-docs/stable/indexing.html#indexing-view-versus-copy\n",
      "  \n"
     ]
    },
    {
     "data": {
      "text/plain": [
       "Id                     8825\n",
       "Customer Name          8825\n",
       "From City              8825\n",
       "To City                8825\n",
       "Distance               8810\n",
       "From Sublocation       8825\n",
       "To Sublocation         8825\n",
       "Order Value            6914\n",
       "Used truck Type        6899\n",
       "Warehouse Start Loc    8825\n",
       "Warehouse End Loc      8825\n",
       "Sector Name            8825\n",
       "Tonnage                6972\n",
       "Per Ton Rate           3431\n",
       "Product Name           8825\n",
       "Freight Amount         6889\n",
       "Order Accepted         5850\n",
       "Order Blocked          2152\n",
       "date                   7962\n",
       "dtype: int64"
      ]
     },
     "execution_count": 5,
     "metadata": {},
     "output_type": "execute_result"
    }
   ],
   "source": [
    "# Picking earliest of Order Accepted or Order Blocked date as Order Date\n",
    "kpi['date']=kpi[['Order Accepted', 'Order Blocked']].apply(maxD, axis=1)\n",
    "#kpi.drop(['Order Accepted', 'Order Blocked'], axis=1, inplace=True)\n",
    "kpi.count()"
   ]
  },
  {
   "cell_type": "code",
   "execution_count": 6,
   "metadata": {},
   "outputs": [
    {
     "data": {
      "text/plain": [
       "Id                     6889\n",
       "Customer Name          6889\n",
       "From City              6889\n",
       "To City                6889\n",
       "Distance               6879\n",
       "From Sublocation       6889\n",
       "To Sublocation         6889\n",
       "Order Value            6889\n",
       "Used truck Type        6889\n",
       "Warehouse Start Loc    6889\n",
       "Warehouse End Loc      6889\n",
       "Sector Name            6889\n",
       "Tonnage                6045\n",
       "Per Ton Rate           3431\n",
       "Product Name           6889\n",
       "Freight Amount         6889\n",
       "Order Accepted         4853\n",
       "Order Blocked          2070\n",
       "date                   6889\n",
       "dtype: int64"
      ]
     },
     "execution_count": 6,
     "metadata": {},
     "output_type": "execute_result"
    }
   ],
   "source": [
    "## Checking how much bad Values/Rows we have\n",
    "kpi[(pd.isnull(kpi['Freight Amount'])==False) & (pd.isnull(kpi['Order Value'])==False)].count()"
   ]
  },
  {
   "cell_type": "code",
   "execution_count": 7,
   "metadata": {},
   "outputs": [
    {
     "data": {
      "text/plain": [
       "Id                     7962\n",
       "Customer Name          7962\n",
       "From City              7962\n",
       "To City                7962\n",
       "Distance               7951\n",
       "From Sublocation       7962\n",
       "To Sublocation         7962\n",
       "Order Value            6914\n",
       "Used truck Type        6899\n",
       "Warehouse Start Loc    7962\n",
       "Warehouse End Loc      7962\n",
       "Sector Name            7962\n",
       "Tonnage                6971\n",
       "Per Ton Rate           3431\n",
       "Product Name           7962\n",
       "Freight Amount         6889\n",
       "Order Accepted         5850\n",
       "Order Blocked          2152\n",
       "date                   7962\n",
       "dtype: int64"
      ]
     },
     "execution_count": 7,
     "metadata": {},
     "output_type": "execute_result"
    }
   ],
   "source": [
    "# droping all rows where we don't know about date (i.e date is null)\n",
    "kpi = kpi[pd.isnull(kpi['date'])==False]\n",
    "kpi.count()"
   ]
  },
  {
   "cell_type": "code",
   "execution_count": 8,
   "metadata": {},
   "outputs": [
    {
     "data": {
      "text/plain": [
       "Id                     7962\n",
       "Customer Name          7962\n",
       "From City              7962\n",
       "To City                7962\n",
       "Distance               7951\n",
       "From Sublocation       7962\n",
       "To Sublocation         7962\n",
       "Order Value            6914\n",
       "Used truck Type        6899\n",
       "Warehouse Start Loc    7962\n",
       "Warehouse End Loc      7962\n",
       "Sector Name            7962\n",
       "Tonnage                6971\n",
       "Per Ton Rate           3431\n",
       "Product Name           7962\n",
       "Freight Amount         6889\n",
       "Order Accepted         5850\n",
       "Order Blocked          2152\n",
       "date                   7962\n",
       "ptr                    6045\n",
       "dtype: int64"
      ]
     },
     "execution_count": 8,
     "metadata": {},
     "output_type": "execute_result"
    }
   ],
   "source": [
    "# calculating per unit km per ton price for the lane\n",
    "kpi['ptr'] = (kpi['Freight Amount']/kpi['Tonnage'])\n",
    "kpi.count()"
   ]
  },
  {
   "cell_type": "code",
   "execution_count": 9,
   "metadata": {},
   "outputs": [
    {
     "data": {
      "text/plain": [
       "7245"
      ]
     },
     "execution_count": 9,
     "metadata": {},
     "output_type": "execute_result"
    }
   ],
   "source": [
    "# check whether we have duplicate dates\n",
    "kpi['date'].unique().size"
   ]
  },
  {
   "cell_type": "code",
   "execution_count": 274,
   "metadata": {},
   "outputs": [
    {
     "data": {
      "text/plain": [
       "Id                     717\n",
       "Customer Name          717\n",
       "From City              717\n",
       "To City                717\n",
       "Distance               717\n",
       "From Sublocation       717\n",
       "To Sublocation         717\n",
       "Order Value            583\n",
       "Used truck Type        582\n",
       "Warehouse Start Loc    717\n",
       "Warehouse End Loc      717\n",
       "Sector Name            717\n",
       "Tonnage                669\n",
       "Per Ton Rate           443\n",
       "Product Name           717\n",
       "Freight Amount         582\n",
       "Order Accepted         684\n",
       "Order Blocked           34\n",
       "date                   717\n",
       "ptr                    547\n",
       "dtype: int64"
      ]
     },
     "execution_count": 274,
     "metadata": {},
     "output_type": "execute_result"
    }
   ],
   "source": [
    "# how many duplicates we have\n",
    "kpi[kpi.date.duplicated()].count()"
   ]
  },
  {
   "cell_type": "code",
   "execution_count": 275,
   "metadata": {
    "collapsed": true
   },
   "outputs": [],
   "source": [
    "# Lets try to make d as unique as possible by adding some secs, ms\n",
    "kpi['d'] = kpi[['date']].apply(addDelta, axis=1)"
   ]
  },
  {
   "cell_type": "code",
   "execution_count": 276,
   "metadata": {},
   "outputs": [
    {
     "data": {
      "text/plain": [
       "7962"
      ]
     },
     "execution_count": 276,
     "metadata": {},
     "output_type": "execute_result"
    }
   ],
   "source": [
    "kpi['d'].unique().size\n",
    "# should come around the count of rows we have"
   ]
  },
  {
   "cell_type": "code",
   "execution_count": 277,
   "metadata": {},
   "outputs": [
    {
     "data": {
      "text/html": [
       "<div>\n",
       "<style>\n",
       "    .dataframe thead tr:only-child th {\n",
       "        text-align: right;\n",
       "    }\n",
       "\n",
       "    .dataframe thead th {\n",
       "        text-align: left;\n",
       "    }\n",
       "\n",
       "    .dataframe tbody tr th {\n",
       "        vertical-align: top;\n",
       "    }\n",
       "</style>\n",
       "<table border=\"1\" class=\"dataframe\">\n",
       "  <thead>\n",
       "    <tr style=\"text-align: right;\">\n",
       "      <th></th>\n",
       "      <th></th>\n",
       "      <th></th>\n",
       "      <th></th>\n",
       "      <th></th>\n",
       "      <th></th>\n",
       "      <th>Id</th>\n",
       "      <th>Customer Name</th>\n",
       "      <th>Distance</th>\n",
       "      <th>Order Value</th>\n",
       "      <th>Warehouse Start Loc</th>\n",
       "      <th>Warehouse End Loc</th>\n",
       "      <th>Sector Name</th>\n",
       "      <th>Tonnage</th>\n",
       "      <th>Per Ton Rate</th>\n",
       "      <th>Freight Amount</th>\n",
       "      <th>Order Accepted</th>\n",
       "      <th>Order Blocked</th>\n",
       "      <th>date</th>\n",
       "      <th>ptr</th>\n",
       "      <th>d</th>\n",
       "    </tr>\n",
       "    <tr>\n",
       "      <th>From City</th>\n",
       "      <th>From Sublocation</th>\n",
       "      <th>To City</th>\n",
       "      <th>To Sublocation</th>\n",
       "      <th>Used truck Type</th>\n",
       "      <th>Product Name</th>\n",
       "      <th></th>\n",
       "      <th></th>\n",
       "      <th></th>\n",
       "      <th></th>\n",
       "      <th></th>\n",
       "      <th></th>\n",
       "      <th></th>\n",
       "      <th></th>\n",
       "      <th></th>\n",
       "      <th></th>\n",
       "      <th></th>\n",
       "      <th></th>\n",
       "      <th></th>\n",
       "      <th></th>\n",
       "      <th></th>\n",
       "    </tr>\n",
       "  </thead>\n",
       "  <tbody>\n",
       "    <tr>\n",
       "      <th rowspan=\"10\" valign=\"top\">Anjar</th>\n",
       "      <th>Kandla</th>\n",
       "      <th>Pune</th>\n",
       "      <th>Kurkumbh</th>\n",
       "      <th>21T/20T</th>\n",
       "      <th>Agriculture</th>\n",
       "      <td>419</td>\n",
       "      <td>419</td>\n",
       "      <td>419</td>\n",
       "      <td>418</td>\n",
       "      <td>419</td>\n",
       "      <td>419</td>\n",
       "      <td>419</td>\n",
       "      <td>417</td>\n",
       "      <td>0</td>\n",
       "      <td>418</td>\n",
       "      <td>232</td>\n",
       "      <td>191</td>\n",
       "      <td>419</td>\n",
       "      <td>417</td>\n",
       "      <td>419</td>\n",
       "    </tr>\n",
       "    <tr>\n",
       "      <th>Lilashah Nagar</th>\n",
       "      <th>Agra</th>\n",
       "      <th>Dholpur House</th>\n",
       "      <th>27T/28T</th>\n",
       "      <th>Packaged Foods</th>\n",
       "      <td>284</td>\n",
       "      <td>284</td>\n",
       "      <td>284</td>\n",
       "      <td>283</td>\n",
       "      <td>284</td>\n",
       "      <td>284</td>\n",
       "      <td>284</td>\n",
       "      <td>0</td>\n",
       "      <td>0</td>\n",
       "      <td>282</td>\n",
       "      <td>77</td>\n",
       "      <td>208</td>\n",
       "      <td>284</td>\n",
       "      <td>0</td>\n",
       "      <td>284</td>\n",
       "    </tr>\n",
       "    <tr>\n",
       "      <th rowspan=\"4\" valign=\"top\">Kandla</th>\n",
       "      <th>Pathankot</th>\n",
       "      <th>Pathankot</th>\n",
       "      <th>30 MT</th>\n",
       "      <th>Coal</th>\n",
       "      <td>237</td>\n",
       "      <td>237</td>\n",
       "      <td>237</td>\n",
       "      <td>237</td>\n",
       "      <td>237</td>\n",
       "      <td>237</td>\n",
       "      <td>237</td>\n",
       "      <td>237</td>\n",
       "      <td>237</td>\n",
       "      <td>237</td>\n",
       "      <td>237</td>\n",
       "      <td>0</td>\n",
       "      <td>237</td>\n",
       "      <td>237</td>\n",
       "      <td>237</td>\n",
       "    </tr>\n",
       "    <tr>\n",
       "      <th>Pune</th>\n",
       "      <th>Kasba Peth</th>\n",
       "      <th>21T/20T</th>\n",
       "      <th>Agriculture</th>\n",
       "      <td>194</td>\n",
       "      <td>194</td>\n",
       "      <td>192</td>\n",
       "      <td>194</td>\n",
       "      <td>194</td>\n",
       "      <td>194</td>\n",
       "      <td>194</td>\n",
       "      <td>194</td>\n",
       "      <td>0</td>\n",
       "      <td>194</td>\n",
       "      <td>144</td>\n",
       "      <td>50</td>\n",
       "      <td>194</td>\n",
       "      <td>194</td>\n",
       "      <td>194</td>\n",
       "    </tr>\n",
       "    <tr>\n",
       "      <th>Vallabhnagar</th>\n",
       "      <th>Dabok</th>\n",
       "      <th>30 MT</th>\n",
       "      <th>Coal</th>\n",
       "      <td>149</td>\n",
       "      <td>149</td>\n",
       "      <td>149</td>\n",
       "      <td>149</td>\n",
       "      <td>149</td>\n",
       "      <td>149</td>\n",
       "      <td>149</td>\n",
       "      <td>149</td>\n",
       "      <td>149</td>\n",
       "      <td>149</td>\n",
       "      <td>149</td>\n",
       "      <td>0</td>\n",
       "      <td>149</td>\n",
       "      <td>149</td>\n",
       "      <td>149</td>\n",
       "    </tr>\n",
       "    <tr>\n",
       "      <th>Muzaffarnagar</th>\n",
       "      <th>Muzaffarnagar</th>\n",
       "      <th>34T</th>\n",
       "      <th>Coal</th>\n",
       "      <td>136</td>\n",
       "      <td>136</td>\n",
       "      <td>136</td>\n",
       "      <td>136</td>\n",
       "      <td>136</td>\n",
       "      <td>136</td>\n",
       "      <td>136</td>\n",
       "      <td>136</td>\n",
       "      <td>132</td>\n",
       "      <td>136</td>\n",
       "      <td>132</td>\n",
       "      <td>4</td>\n",
       "      <td>136</td>\n",
       "      <td>136</td>\n",
       "      <td>136</td>\n",
       "    </tr>\n",
       "    <tr>\n",
       "      <th>Lilashah Nagar</th>\n",
       "      <th>Agra</th>\n",
       "      <th>Dholpur House</th>\n",
       "      <th>27T/28T</th>\n",
       "      <th>Oil</th>\n",
       "      <td>130</td>\n",
       "      <td>130</td>\n",
       "      <td>130</td>\n",
       "      <td>130</td>\n",
       "      <td>130</td>\n",
       "      <td>130</td>\n",
       "      <td>130</td>\n",
       "      <td>130</td>\n",
       "      <td>130</td>\n",
       "      <td>130</td>\n",
       "      <td>130</td>\n",
       "      <td>1</td>\n",
       "      <td>130</td>\n",
       "      <td>130</td>\n",
       "      <td>130</td>\n",
       "    </tr>\n",
       "    <tr>\n",
       "      <th>Gandhidham</th>\n",
       "      <th>Panipat</th>\n",
       "      <th>Panipat</th>\n",
       "      <th>27T/28T</th>\n",
       "      <th>Textiles</th>\n",
       "      <td>120</td>\n",
       "      <td>120</td>\n",
       "      <td>120</td>\n",
       "      <td>120</td>\n",
       "      <td>120</td>\n",
       "      <td>120</td>\n",
       "      <td>120</td>\n",
       "      <td>120</td>\n",
       "      <td>120</td>\n",
       "      <td>120</td>\n",
       "      <td>120</td>\n",
       "      <td>0</td>\n",
       "      <td>120</td>\n",
       "      <td>120</td>\n",
       "      <td>120</td>\n",
       "    </tr>\n",
       "    <tr>\n",
       "      <th rowspan=\"2\" valign=\"top\">Kandla</th>\n",
       "      <th>Dholka</th>\n",
       "      <th>Dholka</th>\n",
       "      <th>30 MT</th>\n",
       "      <th>Coal</th>\n",
       "      <td>114</td>\n",
       "      <td>114</td>\n",
       "      <td>114</td>\n",
       "      <td>114</td>\n",
       "      <td>114</td>\n",
       "      <td>114</td>\n",
       "      <td>114</td>\n",
       "      <td>114</td>\n",
       "      <td>114</td>\n",
       "      <td>114</td>\n",
       "      <td>114</td>\n",
       "      <td>0</td>\n",
       "      <td>114</td>\n",
       "      <td>114</td>\n",
       "      <td>114</td>\n",
       "    </tr>\n",
       "    <tr>\n",
       "      <th>Karnal</th>\n",
       "      <th>Karnal</th>\n",
       "      <th>27T/28T</th>\n",
       "      <th>Oil</th>\n",
       "      <td>103</td>\n",
       "      <td>103</td>\n",
       "      <td>103</td>\n",
       "      <td>103</td>\n",
       "      <td>103</td>\n",
       "      <td>103</td>\n",
       "      <td>103</td>\n",
       "      <td>103</td>\n",
       "      <td>103</td>\n",
       "      <td>103</td>\n",
       "      <td>103</td>\n",
       "      <td>1</td>\n",
       "      <td>103</td>\n",
       "      <td>103</td>\n",
       "      <td>103</td>\n",
       "    </tr>\n",
       "  </tbody>\n",
       "</table>\n",
       "</div>"
      ],
      "text/plain": [
       "                                                                                         Id  \\\n",
       "From City From Sublocation To City       To Sublocation Used truck Type Product Name          \n",
       "Anjar     Kandla           Pune          Kurkumbh       21T/20T         Agriculture     419   \n",
       "          Lilashah Nagar   Agra          Dholpur House  27T/28T         Packaged Foods  284   \n",
       "          Kandla           Pathankot     Pathankot      30 MT           Coal            237   \n",
       "                           Pune          Kasba Peth     21T/20T         Agriculture     194   \n",
       "                           Vallabhnagar  Dabok          30 MT           Coal            149   \n",
       "                           Muzaffarnagar Muzaffarnagar  34T             Coal            136   \n",
       "          Lilashah Nagar   Agra          Dholpur House  27T/28T         Oil             130   \n",
       "          Gandhidham       Panipat       Panipat        27T/28T         Textiles        120   \n",
       "          Kandla           Dholka        Dholka         30 MT           Coal            114   \n",
       "                           Karnal        Karnal         27T/28T         Oil             103   \n",
       "\n",
       "                                                                                        Customer Name  \\\n",
       "From City From Sublocation To City       To Sublocation Used truck Type Product Name                    \n",
       "Anjar     Kandla           Pune          Kurkumbh       21T/20T         Agriculture               419   \n",
       "          Lilashah Nagar   Agra          Dholpur House  27T/28T         Packaged Foods            284   \n",
       "          Kandla           Pathankot     Pathankot      30 MT           Coal                      237   \n",
       "                           Pune          Kasba Peth     21T/20T         Agriculture               194   \n",
       "                           Vallabhnagar  Dabok          30 MT           Coal                      149   \n",
       "                           Muzaffarnagar Muzaffarnagar  34T             Coal                      136   \n",
       "          Lilashah Nagar   Agra          Dholpur House  27T/28T         Oil                       130   \n",
       "          Gandhidham       Panipat       Panipat        27T/28T         Textiles                  120   \n",
       "          Kandla           Dholka        Dholka         30 MT           Coal                      114   \n",
       "                           Karnal        Karnal         27T/28T         Oil                       103   \n",
       "\n",
       "                                                                                        Distance  \\\n",
       "From City From Sublocation To City       To Sublocation Used truck Type Product Name               \n",
       "Anjar     Kandla           Pune          Kurkumbh       21T/20T         Agriculture          419   \n",
       "          Lilashah Nagar   Agra          Dholpur House  27T/28T         Packaged Foods       284   \n",
       "          Kandla           Pathankot     Pathankot      30 MT           Coal                 237   \n",
       "                           Pune          Kasba Peth     21T/20T         Agriculture          192   \n",
       "                           Vallabhnagar  Dabok          30 MT           Coal                 149   \n",
       "                           Muzaffarnagar Muzaffarnagar  34T             Coal                 136   \n",
       "          Lilashah Nagar   Agra          Dholpur House  27T/28T         Oil                  130   \n",
       "          Gandhidham       Panipat       Panipat        27T/28T         Textiles             120   \n",
       "          Kandla           Dholka        Dholka         30 MT           Coal                 114   \n",
       "                           Karnal        Karnal         27T/28T         Oil                  103   \n",
       "\n",
       "                                                                                        Order Value  \\\n",
       "From City From Sublocation To City       To Sublocation Used truck Type Product Name                  \n",
       "Anjar     Kandla           Pune          Kurkumbh       21T/20T         Agriculture             418   \n",
       "          Lilashah Nagar   Agra          Dholpur House  27T/28T         Packaged Foods          283   \n",
       "          Kandla           Pathankot     Pathankot      30 MT           Coal                    237   \n",
       "                           Pune          Kasba Peth     21T/20T         Agriculture             194   \n",
       "                           Vallabhnagar  Dabok          30 MT           Coal                    149   \n",
       "                           Muzaffarnagar Muzaffarnagar  34T             Coal                    136   \n",
       "          Lilashah Nagar   Agra          Dholpur House  27T/28T         Oil                     130   \n",
       "          Gandhidham       Panipat       Panipat        27T/28T         Textiles                120   \n",
       "          Kandla           Dholka        Dholka         30 MT           Coal                    114   \n",
       "                           Karnal        Karnal         27T/28T         Oil                     103   \n",
       "\n",
       "                                                                                        Warehouse Start Loc  \\\n",
       "From City From Sublocation To City       To Sublocation Used truck Type Product Name                          \n",
       "Anjar     Kandla           Pune          Kurkumbh       21T/20T         Agriculture                     419   \n",
       "          Lilashah Nagar   Agra          Dholpur House  27T/28T         Packaged Foods                  284   \n",
       "          Kandla           Pathankot     Pathankot      30 MT           Coal                            237   \n",
       "                           Pune          Kasba Peth     21T/20T         Agriculture                     194   \n",
       "                           Vallabhnagar  Dabok          30 MT           Coal                            149   \n",
       "                           Muzaffarnagar Muzaffarnagar  34T             Coal                            136   \n",
       "          Lilashah Nagar   Agra          Dholpur House  27T/28T         Oil                             130   \n",
       "          Gandhidham       Panipat       Panipat        27T/28T         Textiles                        120   \n",
       "          Kandla           Dholka        Dholka         30 MT           Coal                            114   \n",
       "                           Karnal        Karnal         27T/28T         Oil                             103   \n",
       "\n",
       "                                                                                        Warehouse End Loc  \\\n",
       "From City From Sublocation To City       To Sublocation Used truck Type Product Name                        \n",
       "Anjar     Kandla           Pune          Kurkumbh       21T/20T         Agriculture                   419   \n",
       "          Lilashah Nagar   Agra          Dholpur House  27T/28T         Packaged Foods                284   \n",
       "          Kandla           Pathankot     Pathankot      30 MT           Coal                          237   \n",
       "                           Pune          Kasba Peth     21T/20T         Agriculture                   194   \n",
       "                           Vallabhnagar  Dabok          30 MT           Coal                          149   \n",
       "                           Muzaffarnagar Muzaffarnagar  34T             Coal                          136   \n",
       "          Lilashah Nagar   Agra          Dholpur House  27T/28T         Oil                           130   \n",
       "          Gandhidham       Panipat       Panipat        27T/28T         Textiles                      120   \n",
       "          Kandla           Dholka        Dholka         30 MT           Coal                          114   \n",
       "                           Karnal        Karnal         27T/28T         Oil                           103   \n",
       "\n",
       "                                                                                        Sector Name  \\\n",
       "From City From Sublocation To City       To Sublocation Used truck Type Product Name                  \n",
       "Anjar     Kandla           Pune          Kurkumbh       21T/20T         Agriculture             419   \n",
       "          Lilashah Nagar   Agra          Dholpur House  27T/28T         Packaged Foods          284   \n",
       "          Kandla           Pathankot     Pathankot      30 MT           Coal                    237   \n",
       "                           Pune          Kasba Peth     21T/20T         Agriculture             194   \n",
       "                           Vallabhnagar  Dabok          30 MT           Coal                    149   \n",
       "                           Muzaffarnagar Muzaffarnagar  34T             Coal                    136   \n",
       "          Lilashah Nagar   Agra          Dholpur House  27T/28T         Oil                     130   \n",
       "          Gandhidham       Panipat       Panipat        27T/28T         Textiles                120   \n",
       "          Kandla           Dholka        Dholka         30 MT           Coal                    114   \n",
       "                           Karnal        Karnal         27T/28T         Oil                     103   \n",
       "\n",
       "                                                                                        Tonnage  \\\n",
       "From City From Sublocation To City       To Sublocation Used truck Type Product Name              \n",
       "Anjar     Kandla           Pune          Kurkumbh       21T/20T         Agriculture         417   \n",
       "          Lilashah Nagar   Agra          Dholpur House  27T/28T         Packaged Foods        0   \n",
       "          Kandla           Pathankot     Pathankot      30 MT           Coal                237   \n",
       "                           Pune          Kasba Peth     21T/20T         Agriculture         194   \n",
       "                           Vallabhnagar  Dabok          30 MT           Coal                149   \n",
       "                           Muzaffarnagar Muzaffarnagar  34T             Coal                136   \n",
       "          Lilashah Nagar   Agra          Dholpur House  27T/28T         Oil                 130   \n",
       "          Gandhidham       Panipat       Panipat        27T/28T         Textiles            120   \n",
       "          Kandla           Dholka        Dholka         30 MT           Coal                114   \n",
       "                           Karnal        Karnal         27T/28T         Oil                 103   \n",
       "\n",
       "                                                                                        Per Ton Rate  \\\n",
       "From City From Sublocation To City       To Sublocation Used truck Type Product Name                   \n",
       "Anjar     Kandla           Pune          Kurkumbh       21T/20T         Agriculture                0   \n",
       "          Lilashah Nagar   Agra          Dholpur House  27T/28T         Packaged Foods             0   \n",
       "          Kandla           Pathankot     Pathankot      30 MT           Coal                     237   \n",
       "                           Pune          Kasba Peth     21T/20T         Agriculture                0   \n",
       "                           Vallabhnagar  Dabok          30 MT           Coal                     149   \n",
       "                           Muzaffarnagar Muzaffarnagar  34T             Coal                     132   \n",
       "          Lilashah Nagar   Agra          Dholpur House  27T/28T         Oil                      130   \n",
       "          Gandhidham       Panipat       Panipat        27T/28T         Textiles                 120   \n",
       "          Kandla           Dholka        Dholka         30 MT           Coal                     114   \n",
       "                           Karnal        Karnal         27T/28T         Oil                      103   \n",
       "\n",
       "                                                                                        Freight Amount  \\\n",
       "From City From Sublocation To City       To Sublocation Used truck Type Product Name                     \n",
       "Anjar     Kandla           Pune          Kurkumbh       21T/20T         Agriculture                418   \n",
       "          Lilashah Nagar   Agra          Dholpur House  27T/28T         Packaged Foods             282   \n",
       "          Kandla           Pathankot     Pathankot      30 MT           Coal                       237   \n",
       "                           Pune          Kasba Peth     21T/20T         Agriculture                194   \n",
       "                           Vallabhnagar  Dabok          30 MT           Coal                       149   \n",
       "                           Muzaffarnagar Muzaffarnagar  34T             Coal                       136   \n",
       "          Lilashah Nagar   Agra          Dholpur House  27T/28T         Oil                        130   \n",
       "          Gandhidham       Panipat       Panipat        27T/28T         Textiles                   120   \n",
       "          Kandla           Dholka        Dholka         30 MT           Coal                       114   \n",
       "                           Karnal        Karnal         27T/28T         Oil                        103   \n",
       "\n",
       "                                                                                        Order Accepted  \\\n",
       "From City From Sublocation To City       To Sublocation Used truck Type Product Name                     \n",
       "Anjar     Kandla           Pune          Kurkumbh       21T/20T         Agriculture                232   \n",
       "          Lilashah Nagar   Agra          Dholpur House  27T/28T         Packaged Foods              77   \n",
       "          Kandla           Pathankot     Pathankot      30 MT           Coal                       237   \n",
       "                           Pune          Kasba Peth     21T/20T         Agriculture                144   \n",
       "                           Vallabhnagar  Dabok          30 MT           Coal                       149   \n",
       "                           Muzaffarnagar Muzaffarnagar  34T             Coal                       132   \n",
       "          Lilashah Nagar   Agra          Dholpur House  27T/28T         Oil                        130   \n",
       "          Gandhidham       Panipat       Panipat        27T/28T         Textiles                   120   \n",
       "          Kandla           Dholka        Dholka         30 MT           Coal                       114   \n",
       "                           Karnal        Karnal         27T/28T         Oil                        103   \n",
       "\n",
       "                                                                                        Order Blocked  \\\n",
       "From City From Sublocation To City       To Sublocation Used truck Type Product Name                    \n",
       "Anjar     Kandla           Pune          Kurkumbh       21T/20T         Agriculture               191   \n",
       "          Lilashah Nagar   Agra          Dholpur House  27T/28T         Packaged Foods            208   \n",
       "          Kandla           Pathankot     Pathankot      30 MT           Coal                        0   \n",
       "                           Pune          Kasba Peth     21T/20T         Agriculture                50   \n",
       "                           Vallabhnagar  Dabok          30 MT           Coal                        0   \n",
       "                           Muzaffarnagar Muzaffarnagar  34T             Coal                        4   \n",
       "          Lilashah Nagar   Agra          Dholpur House  27T/28T         Oil                         1   \n",
       "          Gandhidham       Panipat       Panipat        27T/28T         Textiles                    0   \n",
       "          Kandla           Dholka        Dholka         30 MT           Coal                        0   \n",
       "                           Karnal        Karnal         27T/28T         Oil                         1   \n",
       "\n",
       "                                                                                        date  \\\n",
       "From City From Sublocation To City       To Sublocation Used truck Type Product Name           \n",
       "Anjar     Kandla           Pune          Kurkumbh       21T/20T         Agriculture      419   \n",
       "          Lilashah Nagar   Agra          Dholpur House  27T/28T         Packaged Foods   284   \n",
       "          Kandla           Pathankot     Pathankot      30 MT           Coal             237   \n",
       "                           Pune          Kasba Peth     21T/20T         Agriculture      194   \n",
       "                           Vallabhnagar  Dabok          30 MT           Coal             149   \n",
       "                           Muzaffarnagar Muzaffarnagar  34T             Coal             136   \n",
       "          Lilashah Nagar   Agra          Dholpur House  27T/28T         Oil              130   \n",
       "          Gandhidham       Panipat       Panipat        27T/28T         Textiles         120   \n",
       "          Kandla           Dholka        Dholka         30 MT           Coal             114   \n",
       "                           Karnal        Karnal         27T/28T         Oil              103   \n",
       "\n",
       "                                                                                        ptr  \\\n",
       "From City From Sublocation To City       To Sublocation Used truck Type Product Name          \n",
       "Anjar     Kandla           Pune          Kurkumbh       21T/20T         Agriculture     417   \n",
       "          Lilashah Nagar   Agra          Dholpur House  27T/28T         Packaged Foods    0   \n",
       "          Kandla           Pathankot     Pathankot      30 MT           Coal            237   \n",
       "                           Pune          Kasba Peth     21T/20T         Agriculture     194   \n",
       "                           Vallabhnagar  Dabok          30 MT           Coal            149   \n",
       "                           Muzaffarnagar Muzaffarnagar  34T             Coal            136   \n",
       "          Lilashah Nagar   Agra          Dholpur House  27T/28T         Oil             130   \n",
       "          Gandhidham       Panipat       Panipat        27T/28T         Textiles        120   \n",
       "          Kandla           Dholka        Dholka         30 MT           Coal            114   \n",
       "                           Karnal        Karnal         27T/28T         Oil             103   \n",
       "\n",
       "                                                                                          d  \n",
       "From City From Sublocation To City       To Sublocation Used truck Type Product Name         \n",
       "Anjar     Kandla           Pune          Kurkumbh       21T/20T         Agriculture     419  \n",
       "          Lilashah Nagar   Agra          Dholpur House  27T/28T         Packaged Foods  284  \n",
       "          Kandla           Pathankot     Pathankot      30 MT           Coal            237  \n",
       "                           Pune          Kasba Peth     21T/20T         Agriculture     194  \n",
       "                           Vallabhnagar  Dabok          30 MT           Coal            149  \n",
       "                           Muzaffarnagar Muzaffarnagar  34T             Coal            136  \n",
       "          Lilashah Nagar   Agra          Dholpur House  27T/28T         Oil             130  \n",
       "          Gandhidham       Panipat       Panipat        27T/28T         Textiles        120  \n",
       "          Kandla           Dholka        Dholka         30 MT           Coal            114  \n",
       "                           Karnal        Karnal         27T/28T         Oil             103  "
      ]
     },
     "execution_count": 277,
     "metadata": {},
     "output_type": "execute_result"
    }
   ],
   "source": [
    "# Lets Group By by ('From City', 'From Sublocation', 'To City', 'To Sublocation', 'Used truck Type', 'Product Name')\n",
    "kpi.groupby(['From City', 'From Sublocation', 'To City', 'To Sublocation', 'Used truck Type', 'Product Name']).count().nlargest(10, 'Id')"
   ]
  },
  {
   "cell_type": "code",
   "execution_count": 18,
   "metadata": {},
   "outputs": [
    {
     "data": {
      "text/html": [
       "<div>\n",
       "<style>\n",
       "    .dataframe thead tr:only-child th {\n",
       "        text-align: right;\n",
       "    }\n",
       "\n",
       "    .dataframe thead th {\n",
       "        text-align: left;\n",
       "    }\n",
       "\n",
       "    .dataframe tbody tr th {\n",
       "        vertical-align: top;\n",
       "    }\n",
       "</style>\n",
       "<table border=\"1\" class=\"dataframe\">\n",
       "  <thead>\n",
       "    <tr style=\"text-align: right;\">\n",
       "      <th></th>\n",
       "      <th>Id</th>\n",
       "      <th>Customer Name</th>\n",
       "      <th>To City</th>\n",
       "      <th>Distance</th>\n",
       "      <th>From Sublocation</th>\n",
       "      <th>To Sublocation</th>\n",
       "      <th>Order Value</th>\n",
       "      <th>Used truck Type</th>\n",
       "      <th>Warehouse Start Loc</th>\n",
       "      <th>Warehouse End Loc</th>\n",
       "      <th>Sector Name</th>\n",
       "      <th>Tonnage</th>\n",
       "      <th>Per Ton Rate</th>\n",
       "      <th>Product Name</th>\n",
       "      <th>Freight Amount</th>\n",
       "      <th>Order Accepted</th>\n",
       "      <th>Order Blocked</th>\n",
       "      <th>date</th>\n",
       "      <th>ptr</th>\n",
       "      <th>d</th>\n",
       "    </tr>\n",
       "    <tr>\n",
       "      <th>From City</th>\n",
       "      <th></th>\n",
       "      <th></th>\n",
       "      <th></th>\n",
       "      <th></th>\n",
       "      <th></th>\n",
       "      <th></th>\n",
       "      <th></th>\n",
       "      <th></th>\n",
       "      <th></th>\n",
       "      <th></th>\n",
       "      <th></th>\n",
       "      <th></th>\n",
       "      <th></th>\n",
       "      <th></th>\n",
       "      <th></th>\n",
       "      <th></th>\n",
       "      <th></th>\n",
       "      <th></th>\n",
       "      <th></th>\n",
       "      <th></th>\n",
       "    </tr>\n",
       "  </thead>\n",
       "  <tbody>\n",
       "    <tr>\n",
       "      <th>Anjar</th>\n",
       "      <td>7962</td>\n",
       "      <td>7962</td>\n",
       "      <td>7962</td>\n",
       "      <td>7951</td>\n",
       "      <td>7962</td>\n",
       "      <td>7962</td>\n",
       "      <td>6914</td>\n",
       "      <td>6899</td>\n",
       "      <td>7962</td>\n",
       "      <td>7962</td>\n",
       "      <td>7962</td>\n",
       "      <td>6971</td>\n",
       "      <td>3431</td>\n",
       "      <td>7962</td>\n",
       "      <td>6889</td>\n",
       "      <td>5850</td>\n",
       "      <td>2152</td>\n",
       "      <td>7962</td>\n",
       "      <td>6035</td>\n",
       "      <td>7962</td>\n",
       "    </tr>\n",
       "  </tbody>\n",
       "</table>\n",
       "</div>"
      ],
      "text/plain": [
       "             Id  Customer Name  To City  Distance  From Sublocation  \\\n",
       "From City                                                             \n",
       "Anjar      7962           7962     7962      7951              7962   \n",
       "\n",
       "           To Sublocation  Order Value  Used truck Type  Warehouse Start Loc  \\\n",
       "From City                                                                      \n",
       "Anjar                7962         6914             6899                 7962   \n",
       "\n",
       "           Warehouse End Loc  Sector Name  Tonnage  Per Ton Rate  \\\n",
       "From City                                                          \n",
       "Anjar                   7962         7962     6971          3431   \n",
       "\n",
       "           Product Name  Freight Amount  Order Accepted  Order Blocked  date  \\\n",
       "From City                                                                      \n",
       "Anjar              7962            6889            5850           2152  7962   \n",
       "\n",
       "            ptr     d  \n",
       "From City              \n",
       "Anjar      6035  7962  "
      ]
     },
     "execution_count": 18,
     "metadata": {},
     "output_type": "execute_result"
    }
   ],
   "source": [
    "# Group by From City\n",
    "kpi.groupby(['From City']).count().nlargest(10, 'Id')"
   ]
  },
  {
   "cell_type": "code",
   "execution_count": 10,
   "metadata": {
    "collapsed": true
   },
   "outputs": [],
   "source": [
    "# run RF takes a pandas.Series with dateIndex and T as number of Test Points\n",
    "def runRF(series, T, W):\n",
    "    X = series.values\n",
    "    size = len(X) - T\n",
    "\n",
    "    # move each window by 1 data point\n",
    "    # keep last chunk for prediction\n",
    "    NWs = len(X)-W-T-1 \n",
    "\n",
    "    # Features should have dimensions (NWs x WSize)\n",
    "    # Labels should have dimensions (NWs)\n",
    "    feat = np.zeros( [NWs, W] ) - 9999999. # blank array to fill\n",
    "    labl = np.zeros( [NWs] ) - 99999.\n",
    "    sh = np.shape(feat)\n",
    "    \n",
    "    # Now fill the feature and label arrays with differencing\n",
    "    for i in range(int(NWs)):\n",
    "        feat[i,:] = X[i:i+W] - X[i+W]\n",
    "        labl[i] = X[i+W+1] - X[i+W]\n",
    "        \n",
    "    \n",
    "    # Now make test features and test labels to compare with\n",
    "    test_feat = np.zeros( [T, W] )\n",
    "    test_labl = np.zeros( [T] )\n",
    "\n",
    "    for i in range(T):\n",
    "        test_feat[i,:] = X[i+NWs:i+NWs+W] - X[i+NWs+W]\n",
    "        test_labl[i] = X[i+NWs+W+1] - X[i+NWs+W]\n",
    "    \n",
    "    # Code taken from Josh Bloom's lecture\n",
    "    from sklearn.ensemble import RandomForestRegressor\n",
    "    rfRegress = RandomForestRegressor(n_estimators=500, \n",
    "                                criterion='mae', max_depth=None, \n",
    "                                min_samples_split=2, min_samples_leaf=1, \n",
    "                                max_features='auto', max_leaf_nodes=None, \n",
    "                                bootstrap=True, oob_score=False, n_jobs=1, \n",
    "                                random_state=None, verbose=0)\n",
    "    rfRegress.fit(feat, labl)\n",
    "    pred = rfRegress.predict(test_feat)\n",
    "    #plt.plot(test_labl, \"b-\")\n",
    "    #plt.plot(pred,'go')\n",
    "\n",
    "    \n",
    "    #Series(pred, series.index[size:]).plot(color=\"green\", label=\"Prediction_DIFF\")\n",
    "    #Series(test_labl, series.index[size:]).plot(color=\"blue\", label=\"Expected_DIFF_Smoothed\") \n",
    "    \n",
    "    \n",
    "    ### Lets get some numbers\n",
    "    test_labl_act = np.zeros( [T] )\n",
    "    pred_act = np.zeros( [T] )\n",
    "    errs = []\n",
    "    for i in range(T):\n",
    "        test_labl_act[i] = test_labl[i] + X[i+NWs+W]\n",
    "        pred_act[i] = pred[i] + X[i+NWs+W]\n",
    "        err=pererr(abs(test_labl_act[i]-pred_act[i]),test_labl_act[i])\n",
    "        errs.append(err)\n",
    "    rmse = sqrt(mean_squared_error(pred_act, test_labl_act))\n",
    "    mae = mean_absolute_error(pred_act, test_labl_act)\n",
    "    print('Test RMSE: %.3f, MAE:%.3f, Err:%.3f'% (rmse, mae, mean(errs)))\n",
    "    acts =Series(test_labl_act, series.index[size:])\n",
    "    preds=Series(pred_act, series.index[size:])\n",
    "    preds.plot(color=\"red\", label=\"Prediction\")\n",
    "    acts.plot(color=\"blue\", label=\"Expected_Smoothed\") \n",
    "    #plt.plot(test_labl_act, \"o-\")\n",
    "    #plt.plot(pred_act,'r+')\n",
    "    return pred_act\n"
   ]
  },
  {
   "cell_type": "code",
   "execution_count": 17,
   "metadata": {},
   "outputs": [
    {
     "data": {
      "text/plain": [
       "Id                     7962\n",
       "Customer Name          7962\n",
       "From City              7962\n",
       "To City                7962\n",
       "Distance               7951\n",
       "From Sublocation       7962\n",
       "To Sublocation         7962\n",
       "Order Value            6914\n",
       "Used truck Type        6899\n",
       "Warehouse Start Loc    7962\n",
       "Warehouse End Loc      7962\n",
       "Sector Name            7962\n",
       "Tonnage                6971\n",
       "Per Ton Rate           3431\n",
       "Product Name           7962\n",
       "Freight Amount         6889\n",
       "Order Accepted         5850\n",
       "Order Blocked          2152\n",
       "date                   7962\n",
       "ptr                    6045\n",
       "dtype: int64"
      ]
     },
     "execution_count": 17,
     "metadata": {},
     "output_type": "execute_result"
    }
   ],
   "source": [
    "kpi.count()\n"
   ]
  },
  {
   "cell_type": "code",
   "execution_count": 50,
   "metadata": {},
   "outputs": [
    {
     "name": "stderr",
     "output_type": "stream",
     "text": [
      "/Library/Python/2.7/site-packages/ipykernel_launcher.py:2: SettingWithCopyWarning: \n",
      "A value is trying to be set on a copy of a slice from a DataFrame.\n",
      "Try using .loc[row_indexer,col_indexer] = value instead\n",
      "\n",
      "See the caveats in the documentation: http://pandas.pydata.org/pandas-docs/stable/indexing.html#indexing-view-versus-copy\n",
      "  \n"
     ]
    },
    {
     "data": {
      "text/plain": [
       "From City           6045\n",
       "To City             6045\n",
       "From Sublocation    6045\n",
       "To Sublocation      6045\n",
       "Used truck Type     6045\n",
       "Product Name        6045\n",
       "Distance            6035\n",
       "Tonnage             6045\n",
       "date                6045\n",
       "ptr                 6045\n",
       "dtype: int64"
      ]
     },
     "execution_count": 50,
     "metadata": {},
     "output_type": "execute_result"
    }
   ],
   "source": [
    "data = (kpi.iloc[:,[2,3,5,6,8,14,4,12,18,19]])\n",
    "data['date'] = data['date'].astype(np.int64)//10 ** 9\n",
    "data = data[pd.isnull(data['ptr'])==False]\n",
    "data.count()"
   ]
  },
  {
   "cell_type": "code",
   "execution_count": 66,
   "metadata": {},
   "outputs": [
    {
     "name": "stderr",
     "output_type": "stream",
     "text": [
      "/Library/Python/2.7/site-packages/ipykernel_launcher.py:5: SettingWithCopyWarning: \n",
      "A value is trying to be set on a copy of a slice from a DataFrame.\n",
      "Try using .loc[row_indexer,col_indexer] = value instead\n",
      "\n",
      "See the caveats in the documentation: http://pandas.pydata.org/pandas-docs/stable/indexing.html#indexing-view-versus-copy\n",
      "  \"\"\"\n"
     ]
    }
   ],
   "source": [
    "from sklearn.feature_extraction import DictVectorizer\n",
    "from sklearn.ensemble import RandomForestRegressor\n",
    "vec = DictVectorizer()\n",
    "data = (kpi.iloc[:,[2,3,5,6,8,14,4,12,18,19]])\n",
    "data['date'] = data['date'].astype(np.int64)//10 ** 9\n",
    "data = data[(pd.isnull(data['ptr'])==False) & (pd.isnull(data['Distance'])==False)]\n",
    "labels = data['ptr'].values\n",
    "dataWL = data.iloc[:,:-1]\n",
    "dataWLdict = dataWL.T.to_dict().values()\n",
    "dataWLdictT = vec.fit_transform(dataWLdict).toarray()\n",
    "\n",
    "#df_rest = df.loc[~df.index.isin(df_0.7.index)]\n",
    "#df_0.7 = df.sample(frac=0.7)\n",
    "\n",
    "N = len(dataWLdictT)\n",
    "T = int(N*0.7)\n",
    "feat,labl = dataWLdictT[:T], labels[:T]\n",
    "test_feat, test_labl = dataWLdictT[T:], labels[T:]\n",
    "rfRegress = RandomForestRegressor(n_estimators=100, \n",
    "                            criterion='mae', max_depth=None, \n",
    "                            min_samples_split=2, min_samples_leaf=1, \n",
    "                            max_features='auto', max_leaf_nodes=None, \n",
    "                            bootstrap=True, oob_score=False, n_jobs=-1, \n",
    "                            random_state=None, verbose=0)\n"
   ]
  },
  {
   "cell_type": "code",
   "execution_count": 67,
   "metadata": {},
   "outputs": [
    {
     "data": {
      "text/plain": [
       "From City           6035\n",
       "To City             6035\n",
       "From Sublocation    6035\n",
       "To Sublocation      6035\n",
       "Used truck Type     6035\n",
       "Product Name        6035\n",
       "Distance            6035\n",
       "Tonnage             6035\n",
       "date                6035\n",
       "ptr                 6035\n",
       "dtype: int64"
      ]
     },
     "execution_count": 67,
     "metadata": {},
     "output_type": "execute_result"
    }
   ],
   "source": [
    "data.count()"
   ]
  },
  {
   "cell_type": "code",
   "execution_count": 68,
   "metadata": {},
   "outputs": [
    {
     "data": {
      "text/plain": [
       "RandomForestRegressor(bootstrap=True, criterion='mae', max_depth=None,\n",
       "           max_features='auto', max_leaf_nodes=None,\n",
       "           min_impurity_decrease=0.0, min_impurity_split=None,\n",
       "           min_samples_leaf=1, min_samples_split=2,\n",
       "           min_weight_fraction_leaf=0.0, n_estimators=100, n_jobs=-1,\n",
       "           oob_score=False, random_state=None, verbose=0, warm_start=False)"
      ]
     },
     "execution_count": 68,
     "metadata": {},
     "output_type": "execute_result"
    }
   ],
   "source": [
    "rfRegress.fit(feat, labl)"
   ]
  },
  {
   "cell_type": "code",
   "execution_count": 69,
   "metadata": {
    "collapsed": true
   },
   "outputs": [],
   "source": [
    "pred = rfRegress.predict(test_feat)    "
   ]
  },
  {
   "cell_type": "code",
   "execution_count": 71,
   "metadata": {},
   "outputs": [
    {
     "data": {
      "text/plain": [
       "[<matplotlib.lines.Line2D at 0x10bb44d10>]"
      ]
     },
     "execution_count": 71,
     "metadata": {},
     "output_type": "execute_result"
    },
    {
     "data": {
      "image/png": "[encoded data removed]",
      "text/plain": [
       "<matplotlib.figure.Figure at 0x10bb44450>"
      ]
     },
     "metadata": {},
     "output_type": "display_data"
    }
   ],
   "source": [
    "plt.plot(test_labl, \"b-\")\n",
    "plt.plot(pred,'go')\n"
   ]
  },
  {
   "cell_type": "code",
   "execution_count": 72,
   "metadata": {},
   "outputs": [
    {
     "name": "stdout",
     "output_type": "stream",
     "text": [
      "Test RMSE: 286.313, MAE:203.803, Err:7.704\n"
     ]
    },
    {
     "data": {
      "text/plain": [
       "[<matplotlib.lines.Line2D at 0x10bf327d0>]"
      ]
     },
     "execution_count": 72,
     "metadata": {},
     "output_type": "execute_result"
    },
    {
     "data": {
      "image/png": "[encoded data removed]",
      "text/plain": [
       "<matplotlib.figure.Figure at 0x10b7f12d0>"
      ]
     },
     "metadata": {},
     "output_type": "display_data"
    }
   ],
   "source": [
    "errs = []\n",
    "for i in range(len(test_feat)):\n",
    "    err=pererr(abs(test_labl[i]-pred[i]), test_labl[i])\n",
    "    errs.append(err)\n",
    "rmse = sqrt(mean_squared_error(pred, test_labl))\n",
    "mae = mean_absolute_error(pred, test_labl)\n",
    "print('Test RMSE: %.3f, MAE:%.3f, Err:%.3f'% (rmse, mae, mean(errs)))\n",
    "plt.plot(errs)"
   ]
  },
  {
   "cell_type": "code",
   "execution_count": 85,
   "metadata": {},
   "outputs": [
    {
     "data": {
      "text/plain": [
       "array([[<matplotlib.axes._subplots.AxesSubplot object at 0x10e6abcd0>]], dtype=object)"
      ]
     },
     "execution_count": 85,
     "metadata": {},
     "output_type": "execute_result"
    },
    {
     "data": {
      "image/png": "[encoded data removed]",
      "text/plain": [
       "<matplotlib.figure.Figure at 0x10e6823d0>"
      ]
     },
     "metadata": {},
     "output_type": "display_data"
    }
   ],
   "source": [
    "pd.DataFrame(errs).hist(bins=50)"
   ]
  },
  {
   "cell_type": "code",
   "execution_count": 75,
   "metadata": {},
   "outputs": [
    {
     "data": {
      "text/plain": [
       "[<matplotlib.lines.Line2D at 0x10bafb550>]"
      ]
     },
     "execution_count": 75,
     "metadata": {},
     "output_type": "execute_result"
    },
    {
     "data": {
      "image/png": "[encoded data removed]",
      "text/plain": [
       "<matplotlib.figure.Figure at 0x10ba92650>"
      ]
     },
     "metadata": {},
     "output_type": "display_data"
    }
   ],
   "source": [
    "test_feat, test_labl = dataWLdictT[-500:], labels[-500:]\n",
    "pred = rfRegress.predict(test_feat)    \n",
    "plt.plot(test_labl, \"b-\")\n",
    "plt.plot(pred,'go')"
   ]
  },
  {
   "cell_type": "code",
   "execution_count": 91,
   "metadata": {},
   "outputs": [
    {
     "data": {
      "text/plain": [
       "Index([u'From City', u'To City', u'From Sublocation', u'To Sublocation',\n",
       "       u'Used truck Type', u'Product Name', u'Distance', u'Tonnage', u'date',\n",
       "       u'ptr'],\n",
       "      dtype='object')"
      ]
     },
     "execution_count": 91,
     "metadata": {},
     "output_type": "execute_result"
    }
   ],
   "source": [
    "data.columns"
   ]
  },
  {
   "cell_type": "code",
   "execution_count": 105,
   "metadata": {},
   "outputs": [
    {
     "name": "stdout",
     "output_type": "stream",
     "text": [
      "1\n"
     ]
    }
   ],
   "source": [
    "def gt(x,y): \n",
    "    if x > y:\n",
    "        return 1\n",
    "    else:\n",
    "        return 0\n",
    "    \n",
    "def lt(x,y): \n",
    "    if x <= y:\n",
    "        return 1\n",
    "    else:\n",
    "        return 0\n",
    "    \n"
   ]
  },
  {
   "cell_type": "code",
   "execution_count": 146,
   "metadata": {},
   "outputs": [
    {
     "data": {
      "text/plain": [
       "[(2, 21.976808393152954),\n",
       " (3, 47.156267255659856),\n",
       " (5, 59.469906129210379),\n",
       " (7, 72.225289895085581),\n",
       " (10, 85.974599668691326),\n",
       " (15, 14.025400331308669)]"
      ]
     },
     "execution_count": 146,
     "metadata": {},
     "output_type": "execute_result"
    }
   ],
   "source": [
    "counters = [np.array([lt(x,2), lt(x,5), lt(x,7), lt(x,10), lt(x,15), gt(x,15)]) for x in errs]\n",
    "total = len(counters)*1.0\n",
    "from functools import reduce\n",
    "errorRollUp = zip([2, 3, 5, 7, 10, 15, 15], reduce((lambda x,y : x+y), counters))\n",
    "[(x[0], ((x[1]/total)*100)) for x in errorRollUp] "
   ]
  },
  {
   "cell_type": "code",
   "execution_count": 140,
   "metadata": {
    "collapsed": true
   },
   "outputs": [],
   "source": []
  },
  {
   "cell_type": "code",
   "execution_count": 145,
   "metadata": {},
   "outputs": [
    {
     "data": {
      "text/plain": [
       "[(2, 21.976808393152954),\n",
       " (3, 47.156267255659856),\n",
       " (5, 59.469906129210379),\n",
       " (7, 72.225289895085581),\n",
       " (10, 85.974599668691326),\n",
       " (15, 14.025400331308669)]"
      ]
     },
     "execution_count": 145,
     "metadata": {},
     "output_type": "execute_result"
    }
   ],
   "source": []
  },
  {
   "cell_type": "code",
   "execution_count": 128,
   "metadata": {},
   "outputs": [
    {
     "data": {
      "text/plain": [
       "array([0, 0, 0, 0, 2, 0])"
      ]
     },
     "execution_count": 128,
     "metadata": {},
     "output_type": "execute_result"
    }
   ],
   "source": []
  },
  {
   "cell_type": "code",
   "execution_count": 139,
   "metadata": {},
   "outputs": [
    {
     "data": {
      "text/plain": [
       "[(2, 2), (3, 3), (5, 5), (7, 7), (10, 10), (15, 15), (15, 15)]"
      ]
     },
     "execution_count": 139,
     "metadata": {},
     "output_type": "execute_result"
    }
   ],
   "source": [
    "zip([2, 3, 5, 7, 10, 15, 15],[2, 3, 5, 7, 10, 15, 15])"
   ]
  },
  {
   "cell_type": "code",
   "execution_count": null,
   "metadata": {
    "collapsed": true
   },
   "outputs": [],
   "source": []
  }
 ],
 "metadata": {
  "kernelspec": {
   "display_name": "Python 2",
   "language": "python",
   "name": "python2"
  },
  "language_info": {
   "codemirror_mode": {
    "name": "ipython",
    "version": 2
   },
   "file_extension": ".py",
   "mimetype": "text/x-python",
   "name": "python",
   "nbconvert_exporter": "python",
   "pygments_lexer": "ipython2",
   "version": "2.7.10"
  }
 },
 "nbformat": 4,
 "nbformat_minor": 2
}
